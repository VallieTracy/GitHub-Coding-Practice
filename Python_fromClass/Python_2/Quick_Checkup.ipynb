{
 "cells": [
  {
   "cell_type": "markdown",
   "metadata": {},
   "source": [
    "# Quick Check-Up!\n",
    "\n",
    "## Instructions\n",
    "\n",
    "* Create a simple Python command line application. Upon running, the application should:\n",
    "\n",
    "  * Print \"Hello User!\"\n",
    "\n",
    "  * Then ask: \"What is your name? \"\n",
    "\n",
    "  * Then respond: \"Hello &lt;user's name>\"\n",
    "\n",
    "  * Then ask: \"What is your age? \"\n",
    "\n",
    "  * Then respond: \"Awww... you're just a baby!\" or \"Ah... A well traveled soul are ye.\" depending on the user's age.\n",
    "\n",
    "## Hints\n",
    "\n",
    "* Remember to cast!\n"
   ]
  },
  {
   "cell_type": "code",
   "execution_count": 7,
   "metadata": {},
   "outputs": [
    {
     "name": "stdout",
     "output_type": "stream",
     "text": [
      "Hello User!\n"
     ]
    }
   ],
   "source": [
    "print(\"Hello User!\")"
   ]
  },
  {
   "cell_type": "code",
   "execution_count": 8,
   "metadata": {},
   "outputs": [
    {
     "name": "stdout",
     "output_type": "stream",
     "text": [
      "What is your name? Sam\n"
     ]
    }
   ],
   "source": [
    "name = input(\"What is your name? \")"
   ]
  },
  {
   "cell_type": "code",
   "execution_count": 9,
   "metadata": {},
   "outputs": [
    {
     "name": "stdout",
     "output_type": "stream",
     "text": [
      "Hello Sam!\n"
     ]
    }
   ],
   "source": [
    "print(f\"Hello {name}!\")"
   ]
  },
  {
   "cell_type": "code",
   "execution_count": 10,
   "metadata": {},
   "outputs": [
    {
     "name": "stdout",
     "output_type": "stream",
     "text": [
      "What is your age? 2\n"
     ]
    }
   ],
   "source": [
    "age = int(input(\"What is your age? \"))"
   ]
  },
  {
   "cell_type": "code",
   "execution_count": 11,
   "metadata": {},
   "outputs": [
    {
     "name": "stdout",
     "output_type": "stream",
     "text": [
      "Awww...you're just a baby!\n"
     ]
    }
   ],
   "source": [
    "if age < 18:\n",
    "    print(\"Awww...you're just a baby!\")\n",
    "else:\n",
    "    print(\"Ah...A well traveled soul are ye.\")"
   ]
  },
  {
   "cell_type": "code",
   "execution_count": null,
   "metadata": {},
   "outputs": [],
   "source": []
  }
 ],
 "metadata": {
  "kernelspec": {
   "display_name": "Python 3",
   "language": "python",
   "name": "python3"
  },
  "language_info": {
   "codemirror_mode": {
    "name": "ipython",
    "version": 3
   },
   "file_extension": ".py",
   "mimetype": "text/x-python",
   "name": "python",
   "nbconvert_exporter": "python",
   "pygments_lexer": "ipython3",
   "version": "3.7.4"
  }
 },
 "nbformat": 4,
 "nbformat_minor": 2
}
