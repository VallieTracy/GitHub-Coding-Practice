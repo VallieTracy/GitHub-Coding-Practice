{
 "cells": [
  {
   "cell_type": "markdown",
   "metadata": {},
   "source": [
    "## Kid in a Candy Store\n",
    "\n",
    "In this activity, you are creating the code a candy store will use in their state of the art candy vending machine!\n",
    "\n",
    "### Instructions\n",
    "\n",
    "* Create a loop that prints all of the candies in the store to the terminal with their index stored in brackets beside them.\n",
    "\n",
    "  * For example: `\"[0] Snickers\"`\n",
    "\n",
    "* Create a second loop that runs for a set number of times as determined by the variable `allowance`.\n",
    "\n",
    "  * For example: If allowance is equal to five, the loop should run five times.\n",
    "\n",
    "  * Each time this loop runs, take in a user's input - preferably a number - and then add the candy with a matching index to the variable `candy_cart`.\n",
    "\n",
    "  * For example: If the user enters \"0\" as their input, \"Snickers\" should be added into the `candy_cart` list.\n",
    "\n",
    "* Create a final loop to print all of the candies selected to the terminal.\n",
    "\n",
    "### Bonus\n",
    "\n",
    "* Create a version of the same code which allows a user to select as much candy as they want up until they say they do not want any more.\n"
   ]
  },
  {
   "cell_type": "code",
   "execution_count": null,
   "metadata": {},
   "outputs": [],
   "source": [
    "candy_list = [\"Snickers\", \"Twix\", \"Mars\", \"KitKat\", \"Payday\"]\n",
    "for candy in candy_list:\n",
    "    print(f\"[{str(candy_list.index(candy))}] {candy}\")"
   ]
  },
  {
   "cell_type": "code",
   "execution_count": null,
   "metadata": {},
   "outputs": [],
   "source": [
    "allowance = int(input(\"Be honest.  How many candy bars did your parents say you could have?? \"))"
   ]
  },
  {
   "cell_type": "code",
   "execution_count": null,
   "metadata": {},
   "outputs": [],
   "source": [
    "kids_choices = []\n",
    "\n",
    "for j in range(allowance):\n",
    "    choice = input(\"What number candy would you like? Please specify by index number. \")\n",
    "    kids_choices.append(candy_list[int(choice)])"
   ]
  },
  {
   "cell_type": "code",
   "execution_count": null,
   "metadata": {},
   "outputs": [],
   "source": [
    "print(f\"Here are the candy bars you chose: \")\n",
    "for choice in kids_choices:\n",
    "    print(choice)"
   ]
  },
  {
   "cell_type": "markdown",
   "metadata": {},
   "source": [
    "# Bonus"
   ]
  },
  {
   "cell_type": "code",
   "execution_count": 1,
   "metadata": {},
   "outputs": [
    {
     "name": "stdout",
     "output_type": "stream",
     "text": [
      "[0] Snickers\n",
      "[1] Twix\n",
      "[2] Mars\n",
      "[3] KitKat\n",
      "[4] Payday\n",
      "[5] Hershey Bar\n",
      "[6] Wachamacallit\n",
      "[7] Butterfinger\n"
     ]
    }
   ],
   "source": [
    "candy_list = [\"Snickers\", \"Twix\", \"Mars\", \"KitKat\", \"Payday\", \"Hershey Bar\", \"Wachamacallit\", \"Butterfinger\"]\n",
    "for candy in candy_list:\n",
    "    print(f\"[{str(candy_list.index(candy))}] {candy}\")"
   ]
  },
  {
   "cell_type": "code",
   "execution_count": 2,
   "metadata": {},
   "outputs": [
    {
     "name": "stdout",
     "output_type": "stream",
     "text": [
      "What candy bar would you like? Specify by number: 0\n",
      "['Snickers']\n"
     ]
    }
   ],
   "source": [
    "your_list = []\n",
    "\n",
    "your_choice = input(\"What candy bar would you like? Specify by number: \")\n",
    "your_list.append(candy_list[int(your_choice)])\n",
    "print(your_list)"
   ]
  },
  {
   "cell_type": "code",
   "execution_count": 3,
   "metadata": {},
   "outputs": [
    {
     "name": "stdout",
     "output_type": "stream",
     "text": [
      "Would you like to pick another? Yes or No? Yes\n",
      "Which candy would you like to order? 1\n",
      "['Snickers', 'Twix']\n",
      "Would you like to pick another? Yes or No? Yes\n"
     ]
    }
   ],
   "source": [
    "response = input(\"Would you like to pick another? Yes or No? \")\n",
    "if response == \"Yes\":\n",
    "    new_choice = input(\"Which candy would you like to order? \")\n",
    "    your_list.append(candy_list[int(new_choice)])\n",
    "    print(your_list)\n",
    "    response = input(\"Would you like to pick another? Yes or No? \")\n",
    "else:\n",
    "    print(\"Enjoy your purchase!\")"
   ]
  },
  {
   "cell_type": "code",
   "execution_count": null,
   "metadata": {},
   "outputs": [],
   "source": [
    "if response == \"Yes\":\n",
    "    new_choice = input(\"Which candy would you like to order? \")\n",
    "    your_list.append(candy_list[int(your_choice)])\n",
    "    print(your_list)\n",
    "else:\n",
    "    print(\"Enjoy your purchase!\")"
   ]
  },
  {
   "cell_type": "code",
   "execution_count": null,
   "metadata": {},
   "outputs": [],
   "source": [
    "your_list"
   ]
  },
  {
   "cell_type": "code",
   "execution_count": null,
   "metadata": {},
   "outputs": [],
   "source": []
  }
 ],
 "metadata": {
  "kernelspec": {
   "display_name": "Python 3",
   "language": "python",
   "name": "python3"
  },
  "language_info": {
   "codemirror_mode": {
    "name": "ipython",
    "version": 3
   },
   "file_extension": ".py",
   "mimetype": "text/x-python",
   "name": "python",
   "nbconvert_exporter": "python",
   "pygments_lexer": "ipython3",
   "version": "3.7.4"
  }
 },
 "nbformat": 4,
 "nbformat_minor": 2
}
