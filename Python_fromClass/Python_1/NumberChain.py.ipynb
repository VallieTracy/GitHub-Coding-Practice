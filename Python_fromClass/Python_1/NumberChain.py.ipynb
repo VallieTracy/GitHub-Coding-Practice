{
 "cells": [
  {
   "cell_type": "markdown",
   "metadata": {},
   "source": [
    "# Number Chain\n",
    "\n",
    "Chain up the numbers\n",
    "\n",
    "## Instructions\n",
    "\n",
    "* Using a while loop, ask the user \"How many numbers?\", then print out a chain of ascending numbers, starting at 0.\n",
    "\n",
    "* After the results have printed ask the user if they would like to continue.\n",
    "\n",
    "  * If \"y\", restart the process, starting at 0 again.\n",
    "\n",
    "  * If \"n\", exit the chain.\n",
    "\n",
    "## Bonus\n",
    "\n",
    "* Rather than just displaying numbers constantly starting at 0, have the numbers begin at the end of the previous chain.\n"
   ]
  },
  {
   "cell_type": "code",
   "execution_count": 24,
   "metadata": {},
   "outputs": [
    {
     "name": "stdout",
     "output_type": "stream",
     "text": [
      "How many numbers would you like to print? 12\n"
     ]
    }
   ],
   "source": [
    "directive = int(input(\"How many numbers would you like to print? \"))"
   ]
  },
  {
   "cell_type": "code",
   "execution_count": 25,
   "metadata": {},
   "outputs": [
    {
     "name": "stdout",
     "output_type": "stream",
     "text": [
      "0\n",
      "1\n",
      "2\n",
      "3\n",
      "4\n",
      "5\n",
      "6\n",
      "7\n",
      "8\n",
      "9\n",
      "10\n",
      "11\n"
     ]
    }
   ],
   "source": [
    "for x in range(directive):\n",
    "    print(x)"
   ]
  },
  {
   "cell_type": "code",
   "execution_count": 26,
   "metadata": {},
   "outputs": [
    {
     "name": "stdout",
     "output_type": "stream",
     "text": [
      "Would you like to continue, (y)es or (n)o? y\n"
     ]
    }
   ],
   "source": [
    "cont = input(\"Would you like to continue, (y)es or (n)o? \")"
   ]
  },
  {
   "cell_type": "code",
   "execution_count": 30,
   "metadata": {},
   "outputs": [
    {
     "name": "stdout",
     "output_type": "stream",
     "text": [
      "How many numbers would you like to print? 4\n",
      "0\n",
      "1\n",
      "2\n",
      "3\n",
      "4\n",
      "5\n",
      "6\n",
      "7\n",
      "8\n",
      "9\n",
      "10\n",
      "11\n",
      "0\n",
      "1\n",
      "2\n",
      "3\n"
     ]
    }
   ],
   "source": [
    "if cont == \"n\":\n",
    "    print(\"Exiting program.\")\n",
    "else:\n",
    "    new_directive = int(input(\"How many numbers would you like to print? \"))\n",
    "    for x in range(directive):\n",
    "        print(x)\n",
    "    for y in range(new_directive):\n",
    "        print(y)\n",
    "        "
   ]
  },
  {
   "cell_type": "code",
   "execution_count": null,
   "metadata": {},
   "outputs": [],
   "source": []
  }
 ],
 "metadata": {
  "kernelspec": {
   "display_name": "Python 3",
   "language": "python",
   "name": "python3"
  },
  "language_info": {
   "codemirror_mode": {
    "name": "ipython",
    "version": 3
   },
   "file_extension": ".py",
   "mimetype": "text/x-python",
   "name": "python",
   "nbconvert_exporter": "python",
   "pygments_lexer": "ipython3",
   "version": "3.7.4"
  }
 },
 "nbformat": 4,
 "nbformat_minor": 2
}
