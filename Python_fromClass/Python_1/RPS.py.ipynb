{
 "cells": [
  {
   "cell_type": "markdown",
   "metadata": {},
   "source": [
    "# Rock, Paper, Scissors, Shoot\n",
    "\n",
    "Create a RPS game that takes user input from the command line and plays against the computer.\n",
    "\n",
    "## Instructions\n",
    "\n",
    "* Using the terminal, take an input of `r`, `p` or `s` which will stand for rock, paper, and scissors.\n",
    "\n",
    "* Have the computer randomly pick one of these three choices.\n",
    "\n",
    "* Compare the user's input to the computer's choice to determine if the user won, lost, or tied.\n",
    "\n",
    "## Hints\n",
    "\n",
    "* Look into this [stackoverflow](https://stackoverflow.com/questions/306400/how-to-randomly-select-an-item-from-a-list) question for usage."
   ]
  },
  {
   "cell_type": "code",
   "execution_count": 1,
   "metadata": {},
   "outputs": [],
   "source": [
    "# Incorporate the random library\n",
    "import random"
   ]
  },
  {
   "cell_type": "code",
   "execution_count": 2,
   "metadata": {},
   "outputs": [
    {
     "name": "stdout",
     "output_type": "stream",
     "text": [
      "Let's Play Rock Paper Scissors!\n"
     ]
    }
   ],
   "source": [
    "# Print Title\n",
    "print(\"Let's Play Rock Paper Scissors!\")"
   ]
  },
  {
   "cell_type": "code",
   "execution_count": 38,
   "metadata": {},
   "outputs": [],
   "source": [
    "# Specify the three options\n",
    "options = [\"r\", \"p\", \"s\"]"
   ]
  },
  {
   "cell_type": "code",
   "execution_count": 39,
   "metadata": {},
   "outputs": [],
   "source": [
    "# Computer Selection\n",
    "computer_choice = random.choice(options)"
   ]
  },
  {
   "cell_type": "code",
   "execution_count": 40,
   "metadata": {},
   "outputs": [
    {
     "name": "stdout",
     "output_type": "stream",
     "text": [
      "Make your Choice: (r)ock, (p)aper, (s)cissors? s\n"
     ]
    }
   ],
   "source": [
    "# User Selection\n",
    "user_choice = input(\"Make your Choice: (r)ock, (p)aper, (s)cissors? \")"
   ]
  },
  {
   "cell_type": "code",
   "execution_count": 41,
   "metadata": {},
   "outputs": [
    {
     "name": "stdout",
     "output_type": "stream",
     "text": [
      "s\n"
     ]
    }
   ],
   "source": [
    "# Run Conditionals\n",
    "print(user_choice)"
   ]
  },
  {
   "cell_type": "code",
   "execution_count": 37,
   "metadata": {},
   "outputs": [
    {
     "name": "stdout",
     "output_type": "stream",
     "text": [
      "The computer chose p and you chose r. You tie!\n"
     ]
    }
   ],
   "source": [
    "if computer_choice == \"r\" and user_choice == 'r':\n",
    "    print(f\"The computer chose {computer_choice} and you chose {user_choice}. You lose!\")\n",
    "elif computer_choice == \"p\" and user_choice == 'r':\n",
    "    print(f\"The computer chose {computer_choice} and you chose {user_choice}. You tie!\")\n",
    "else:\n",
    "    print(f\"The computer chose {computer_choice} and you chose {user_choice}. You win!\")"
   ]
  },
  {
   "cell_type": "code",
   "execution_count": 42,
   "metadata": {},
   "outputs": [
    {
     "name": "stdout",
     "output_type": "stream",
     "text": [
      "The computer chose r and you chose s. You lose!\n"
     ]
    }
   ],
   "source": [
    "if computer_choice == \"r\" and user_choice == 's':\n",
    "    print(f\"The computer chose {computer_choice} and you chose {user_choice}. You lose!\")\n",
    "elif computer_choice == \"p\" and user_choice == 's':\n",
    "    print(f\"The computer chose {computer_choice} and you chose {user_choice}. You tie!\")\n",
    "else:\n",
    "    print(f\"The computer chose {computer_choice} and you chose {user_choice}. You win!\")"
   ]
  },
  {
   "cell_type": "code",
   "execution_count": null,
   "metadata": {},
   "outputs": [],
   "source": []
  }
 ],
 "metadata": {
  "kernelspec": {
   "display_name": "Python 3",
   "language": "python",
   "name": "python3"
  },
  "language_info": {
   "codemirror_mode": {
    "name": "ipython",
    "version": 3
   },
   "file_extension": ".py",
   "mimetype": "text/x-python",
   "name": "python",
   "nbconvert_exporter": "python",
   "pygments_lexer": "ipython3",
   "version": "3.7.4"
  }
 },
 "nbformat": 4,
 "nbformat_minor": 2
}
