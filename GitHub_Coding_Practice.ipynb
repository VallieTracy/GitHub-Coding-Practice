{
 "cells": [
  {
   "cell_type": "markdown",
   "metadata": {},
   "source": [
    "## Pascal's Triangle (Python)\n",
    "\n",
    "Given a non-negative integer numRows, generate the first numRows of Pascal's triangle.\n",
    "\n",
    "In Pascal's triangle, each number is the sum of the two numbers directly above it.\n",
    "\n",
    "Example:\n",
    "\n",
    "Input: 5\n",
    "Output:\n",
    "[\n",
    "     [1],\n",
    "    [1,1],\n",
    "   [1,2,1],\n",
    "  [1,3,3,1],\n",
    " [1,4,6,4,1]\n",
    "]"
   ]
  },
  {
   "cell_type": "code",
   "execution_count": 1,
   "metadata": {},
   "outputs": [
    {
     "name": "stdout",
     "output_type": "stream",
     "text": [
      "Hello World!\n"
     ]
    }
   ],
   "source": [
    "def printHello():\n",
    "    print(f\"Hello World!\")\n",
    "    \n",
    "printHello()"
   ]
  },
  {
   "cell_type": "code",
   "execution_count": 2,
   "metadata": {},
   "outputs": [
    {
     "name": "stdout",
     "output_type": "stream",
     "text": [
      "Hello Vallie!\n",
      "Using an f-string: Hi Vallie.\n"
     ]
    }
   ],
   "source": [
    "name = \"Vallie\"\n",
    "\n",
    "def printName(name):\n",
    "    print(\"Hello \" + name + \"!\")\n",
    "    print(f\"Using an f-string: Hi {name}.\")\n",
    "printName(name)"
   ]
  },
  {
   "cell_type": "code",
   "execution_count": 3,
   "metadata": {},
   "outputs": [
    {
     "name": "stdout",
     "output_type": "stream",
     "text": [
      "2\n",
      "------------------\n",
      "a + b = 5\n",
      "a x b = 6\n",
      "(a + b) - (a x b) = 5 - 6\n",
      "{-1}\n",
      "-1\n"
     ]
    }
   ],
   "source": [
    "def addNumbers():\n",
    "    print(1 + 1)\n",
    "\n",
    "addNumbers()\n",
    "\n",
    "print(f\"------------------\")\n",
    "\n",
    "a = 2\n",
    "b = 3\n",
    "\n",
    "def adding():\n",
    "    print(f\"a + b = {a + b}\")\n",
    "adding()\n",
    "\n",
    "def multiplying():\n",
    "    print(f\"a x b = {a * b}\")\n",
    "multiplying()\n",
    "\n",
    "def otherFunction():\n",
    "    print(f\"(a + b) - (a x b) = {a + b} - {a * b}\")\n",
    "    print({(a + b) - (a * b)})\n",
    "    print((a + b) - (a * b))\n",
    "otherFunction()"
   ]
  },
  {
   "cell_type": "code",
   "execution_count": 4,
   "metadata": {},
   "outputs": [
    {
     "name": "stdout",
     "output_type": "stream",
     "text": [
      "The values within the list are:\n",
      "1\n",
      "3\n",
      "7\n",
      "8\n",
      "12\n",
      "The length of this list is 5\n",
      "The values within the list are:\n",
      "0\n",
      "2\n",
      "1\n",
      "The length of this list is 3\n"
     ]
    }
   ],
   "source": [
    "listOne = [1, 3, 7, 8, 12]\n",
    "listTwo = [0, 2, 1]\n",
    "    \n",
    "def printList(numbersList):\n",
    "    print(f\"The values within the list are:\")\n",
    "    for number in numbersList:\n",
    "        print(number)\n",
    "    print(\"The length of this list is \" + str(len(numbersList)))\n",
    "\n",
    "printList(listOne)\n",
    "printList(listTwo)"
   ]
  },
  {
   "cell_type": "code",
   "execution_count": 5,
   "metadata": {},
   "outputs": [
    {
     "name": "stdout",
     "output_type": "stream",
     "text": [
      "2\n",
      "4\n",
      "8\n",
      "9\n",
      "13\n",
      "---------\n",
      "The sum of listOne is 31\n",
      "----------\n",
      "1\n",
      "4\n",
      "11\n",
      "19\n",
      "31\n"
     ]
    }
   ],
   "source": [
    "def plusOne(myArray):\n",
    "    for number in myArray:\n",
    "        print(number + 1)\n",
    "        \n",
    "plusOne(listOne)\n",
    "\n",
    "print(f\"---------\")\n",
    "\n",
    "print(f\"The sum of listOne is {sum(listOne)}\") \n",
    "\n",
    "print(\"----------\")\n",
    "\n",
    "def addArray(myArray):\n",
    "    total = 0\n",
    "    for number in myArray:\n",
    "        total += number\n",
    "        print(total)\n",
    "\n",
    "addArray(listOne)\n",
    "# need to figure out how to add together and just get the final total"
   ]
  },
  {
   "cell_type": "code",
   "execution_count": 6,
   "metadata": {},
   "outputs": [
    {
     "data": {
      "text/plain": [
       "34"
      ]
     },
     "execution_count": 6,
     "metadata": {},
     "output_type": "execute_result"
    }
   ],
   "source": [
    "listA = [4, 2, 0, 1]\n",
    "listB = [10, 1, 1, 2, 20]\n",
    "\n",
    "def sum_1(anArray):\n",
    "    total = 0\n",
    "    for x in anArray:\n",
    "        total += x\n",
    "    return total\n",
    "sum_1(listB)"
   ]
  },
  {
   "cell_type": "code",
   "execution_count": 7,
   "metadata": {},
   "outputs": [
    {
     "name": "stdout",
     "output_type": "stream",
     "text": [
      "[1]\n",
      "[2]\n",
      "[3]\n",
      "[4]\n",
      "[5]\n"
     ]
    }
   ],
   "source": [
    "for x in range(1, 6):\n",
    "    print([x])"
   ]
  },
  {
   "cell_type": "code",
   "execution_count": 25,
   "metadata": {},
   "outputs": [
    {
     "name": "stdout",
     "output_type": "stream",
     "text": [
      "1  \n",
      "1 1  \n",
      "1 2 1  \n",
      "1 3 3 1  \n",
      "1 4 6 4 1  \n"
     ]
    }
   ],
   "source": [
    "memory = {}\n",
    "\n",
    "def pascal_soln(row, col):\n",
    "    index = (row, col)\n",
    "    if index in memory: return memory[index]\n",
    "    if (col == 1): return 1\n",
    "    if (col == row): return 1\n",
    "    up_left = pascal_soln(row - 1, col - 1)\n",
    "    up_right = pascal_soln(row - 1, col)\n",
    "    memory[index] = up_left + up_right\n",
    "    return up_left + up_right\n",
    "\n",
    "for r in range(1, 6):\n",
    "    for c in range(1, r + 1):\n",
    "        print(pascal_soln(r, c), end = \" \")\n",
    "    print(\" \")"
   ]
  },
  {
   "cell_type": "code",
   "execution_count": null,
   "metadata": {},
   "outputs": [],
   "source": []
  }
 ],
 "metadata": {
  "kernelspec": {
   "display_name": "Python 3",
   "language": "python",
   "name": "python3"
  },
  "language_info": {
   "codemirror_mode": {
    "name": "ipython",
    "version": 3
   },
   "file_extension": ".py",
   "mimetype": "text/x-python",
   "name": "python",
   "nbconvert_exporter": "python",
   "pygments_lexer": "ipython3",
   "version": "3.7.4"
  }
 },
 "nbformat": 4,
 "nbformat_minor": 2
}
