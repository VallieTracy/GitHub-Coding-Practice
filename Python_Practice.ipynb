{
 "cells": [
  {
   "cell_type": "markdown",
   "metadata": {},
   "source": [
    "## Pascal's Triangle (Python)\n",
    "\n",
    "Given a non-negative integer numRows, generate the first numRows of Pascal's triangle.\n",
    "\n",
    "In Pascal's triangle, each number is the sum of the two numbers directly above it.\n",
    "\n",
    "Example:\n",
    "\n",
    "Input: 5\n",
    "Output:\n",
    "[\n",
    "     [1],\n",
    "    [1,1],\n",
    "   [1,2,1],\n",
    "  [1,3,3,1],\n",
    " [1,4,6,4,1]\n",
    "]"
   ]
  },
  {
   "cell_type": "code",
   "execution_count": null,
   "metadata": {},
   "outputs": [],
   "source": [
    "def printHello():\n",
    "    print(f\"Hello World!\")\n",
    "    \n",
    "printHello()"
   ]
  },
  {
   "cell_type": "code",
   "execution_count": null,
   "metadata": {},
   "outputs": [],
   "source": [
    "name = \"Vallie\"\n",
    "\n",
    "def printName(name):\n",
    "    print(\"Hello \" + name + \"!\")\n",
    "    print(f\"Using an f-string: Hi {name}.\")\n",
    "printName(name)"
   ]
  },
  {
   "cell_type": "code",
   "execution_count": null,
   "metadata": {},
   "outputs": [],
   "source": [
    "def addNumbers():\n",
    "    print(1 + 1)\n",
    "\n",
    "addNumbers()\n",
    "\n",
    "print(f\"------------------\")\n",
    "\n",
    "a = 2\n",
    "b = 3\n",
    "\n",
    "def adding():\n",
    "    print(f\"a + b = {a + b}\")\n",
    "adding()\n",
    "\n",
    "def multiplying():\n",
    "    print(f\"a x b = {a * b}\")\n",
    "multiplying()\n",
    "\n",
    "def otherFunction():\n",
    "    print(f\"(a + b) - (a x b) = {a + b} - {a * b}\")\n",
    "    print({(a + b) - (a * b)})\n",
    "    print((a + b) - (a * b))\n",
    "otherFunction()"
   ]
  },
  {
   "cell_type": "code",
   "execution_count": null,
   "metadata": {},
   "outputs": [],
   "source": [
    "listOne = [1, 3, 7, 8, 12]\n",
    "listTwo = [0, 2, 1]\n",
    "    \n",
    "def printList(numbersList):\n",
    "    print(f\"The values within the list are:\")\n",
    "    for number in numbersList:\n",
    "        print(number)\n",
    "    print(\"The length of this list is \" + str(len(numbersList)))\n",
    "\n",
    "printList(listOne)\n",
    "printList(listTwo)"
   ]
  },
  {
   "cell_type": "code",
   "execution_count": null,
   "metadata": {},
   "outputs": [],
   "source": [
    "def plusOne(myArray):\n",
    "    for number in myArray:\n",
    "        print(number + 1)\n",
    "        \n",
    "plusOne(listOne)\n",
    "\n",
    "print(f\"---------\")\n",
    "\n",
    "print(f\"The sum of listOne is {sum(listOne)}\") \n",
    "\n",
    "print(\"----------\")\n",
    "\n",
    "def addArray(myArray):\n",
    "    total = 0\n",
    "    for number in myArray:\n",
    "        total += number\n",
    "        print(total)\n",
    "\n",
    "addArray(listOne)\n",
    "# need to figure out how to add together and just get the final total"
   ]
  },
  {
   "cell_type": "code",
   "execution_count": null,
   "metadata": {},
   "outputs": [],
   "source": [
    "listA = [4, 2, 0, 1]\n",
    "listB = [10, 1, 1, 2, 20]\n",
    "\n",
    "def sum_1(anArray):\n",
    "    total = 0\n",
    "    for x in anArray:\n",
    "        total += x\n",
    "    return total\n",
    "sum_1(listB)"
   ]
  },
  {
   "cell_type": "code",
   "execution_count": null,
   "metadata": {},
   "outputs": [],
   "source": [
    "for x in range(1, 6):\n",
    "    print([x])"
   ]
  },
  {
   "cell_type": "code",
   "execution_count": null,
   "metadata": {},
   "outputs": [],
   "source": [
    "memory = {}\n",
    "\n",
    "def pascal_soln(row, col):\n",
    "    index = (row, col)\n",
    "    if index in memory: return memory[index]\n",
    "    if (col == 1): return 1\n",
    "    if (col == row): return 1\n",
    "    up_left = pascal_soln(row - 1, col - 1)\n",
    "    up_right = pascal_soln(row - 1, col)\n",
    "    memory[index] = up_left + up_right\n",
    "    return up_left + up_right\n",
    "\n",
    "for r in range(1, 6):\n",
    "    for c in range(1, r + 1):\n",
    "        print(pascal_soln(r, c), end = \" \")\n",
    "    print(\" \")"
   ]
  },
  {
   "cell_type": "markdown",
   "metadata": {},
   "source": [
    "## Python LI Learning"
   ]
  },
  {
   "cell_type": "code",
   "execution_count": 1,
   "metadata": {},
   "outputs": [],
   "source": [
    "import math\n",
    "import collections\n",
    "\n",
    "import numpy as np\n",
    "import pandas as pd\n",
    "import matplotlib.pyplot as pp\n",
    "\n",
    "%matplotlib inline"
   ]
  },
  {
   "cell_type": "code",
   "execution_count": null,
   "metadata": {},
   "outputs": [],
   "source": [
    "for i in range(0, 10, 2):\n",
    "    print(i)"
   ]
  },
  {
   "cell_type": "code",
   "execution_count": null,
   "metadata": {},
   "outputs": [],
   "source": [
    "for i in range(5):\n",
    "    print(i)"
   ]
  },
  {
   "cell_type": "code",
   "execution_count": null,
   "metadata": {},
   "outputs": [],
   "source": [
    "combinations = []\n",
    "\n",
    "for count_100 in range(1 + 1):\n",
    "    for count_50 in range(2 + 1):\n",
    "        for count_25 in range(4 + 1):\n",
    "            for count_10 in range(10 + 1):\n",
    "                for count_5 in range(20 + 1):\n",
    "                    for count_1 in range (100 + 1):\n",
    "                        if 100*count_100 + 50*count_50 + 25*count_25 + 10*count_10 + 5*count_5 + 1*count_1 == 100:\n",
    "                            combinations.append([count_100, count_50, count_25, count_10, count_5, count_1])"
   ]
  },
  {
   "cell_type": "code",
   "execution_count": null,
   "metadata": {},
   "outputs": [],
   "source": [
    "combinations"
   ]
  },
  {
   "cell_type": "code",
   "execution_count": null,
   "metadata": {},
   "outputs": [],
   "source": [
    "len(combinations)"
   ]
  },
  {
   "cell_type": "code",
   "execution_count": null,
   "metadata": {},
   "outputs": [],
   "source": [
    "for count_25 in range(4 + 1):\n",
    "    print(count_25)"
   ]
  },
  {
   "cell_type": "code",
   "execution_count": null,
   "metadata": {},
   "outputs": [],
   "source": [
    "for amount_25 in range(0, 100+1, 25):\n",
    "    print(amount_25)"
   ]
  },
  {
   "cell_type": "code",
   "execution_count": null,
   "metadata": {},
   "outputs": [],
   "source": [
    "for amount_10 in range(0, 50 + 1, 10):\n",
    "    print(amount_10)"
   ]
  },
  {
   "cell_type": "code",
   "execution_count": null,
   "metadata": {},
   "outputs": [],
   "source": [
    "combo_amounts = []\n",
    "\n",
    "for amount_100 in range(0, 100 + 1, 100):\n",
    "    for amount_50 in range(0, 100 + 1, 50):\n",
    "        for amount_25 in range(0, 100 + 1, 25):\n",
    "            for amount_10 in range(0, 100 + 1, 10):\n",
    "                for amount_5 in range(0, 100 + 1, 5):\n",
    "                    total_so_far = amount_100 + amount_50 + amount_25 + amount_10 + amount_5\n",
    "                    \n",
    "                    if total_so_far <= 100:\n",
    "                        combo_amounts.append([amount_100, amount_50, amount_25, amount_10, amount_5, 100 - total_so_far])"
   ]
  },
  {
   "cell_type": "code",
   "execution_count": null,
   "metadata": {},
   "outputs": [],
   "source": [
    "combo_amounts"
   ]
  },
  {
   "cell_type": "code",
   "execution_count": null,
   "metadata": {},
   "outputs": [],
   "source": [
    "len(combo_amounts)"
   ]
  },
  {
   "cell_type": "markdown",
   "metadata": {},
   "source": [
    "### Lists"
   ]
  },
  {
   "cell_type": "code",
   "execution_count": 2,
   "metadata": {},
   "outputs": [],
   "source": [
    "nephews = ['John', 'Noah', 'Cameron']"
   ]
  },
  {
   "cell_type": "code",
   "execution_count": 3,
   "metadata": {},
   "outputs": [
    {
     "data": {
      "text/plain": [
       "['John', 'Noah', 'Cameron']"
      ]
     },
     "execution_count": 3,
     "metadata": {},
     "output_type": "execute_result"
    }
   ],
   "source": [
    "nephews"
   ]
  },
  {
   "cell_type": "code",
   "execution_count": 4,
   "metadata": {},
   "outputs": [
    {
     "data": {
      "text/plain": [
       "3"
      ]
     },
     "execution_count": 4,
     "metadata": {},
     "output_type": "execute_result"
    }
   ],
   "source": [
    "len(nephews)"
   ]
  },
  {
   "cell_type": "code",
   "execution_count": 5,
   "metadata": {},
   "outputs": [
    {
     "data": {
      "text/plain": [
       "'Cameron'"
      ]
     },
     "execution_count": 5,
     "metadata": {},
     "output_type": "execute_result"
    }
   ],
   "source": [
    "nephews[2]"
   ]
  },
  {
   "cell_type": "code",
   "execution_count": 6,
   "metadata": {},
   "outputs": [
    {
     "name": "stdout",
     "output_type": "stream",
     "text": [
      "Noah\n"
     ]
    }
   ],
   "source": [
    "print(nephews[1])"
   ]
  },
  {
   "cell_type": "code",
   "execution_count": 7,
   "metadata": {},
   "outputs": [
    {
     "data": {
      "text/plain": [
       "('Cameron', 'Noah', 'John')"
      ]
     },
     "execution_count": 7,
     "metadata": {},
     "output_type": "execute_result"
    }
   ],
   "source": [
    "nephews[-1], nephews[-2], nephews[-3]"
   ]
  },
  {
   "cell_type": "code",
   "execution_count": 8,
   "metadata": {},
   "outputs": [
    {
     "name": "stdout",
     "output_type": "stream",
     "text": [
      "John\n",
      "Noah\n",
      "Cameron\n"
     ]
    }
   ],
   "source": [
    "for i in range(3):\n",
    "    print(nephews[i])"
   ]
  },
  {
   "cell_type": "code",
   "execution_count": 9,
   "metadata": {},
   "outputs": [
    {
     "name": "stdout",
     "output_type": "stream",
     "text": [
      "NEPHEW: John Tracy\n",
      "NEPHEW: Noah Tracy\n",
      "NEPHEW: Cameron Tracy\n"
     ]
    }
   ],
   "source": [
    "for i in range(3):\n",
    "    print(f\"NEPHEW: {nephews[i]} Tracy\")"
   ]
  },
  {
   "cell_type": "code",
   "execution_count": 10,
   "metadata": {},
   "outputs": [
    {
     "data": {
      "text/plain": [
       "[1, [2, 3], 'alpha']"
      ]
     },
     "execution_count": 10,
     "metadata": {},
     "output_type": "execute_result"
    }
   ],
   "source": [
    "mix_it_up = [1, [2, 3], 'alpha']\n",
    "mix_it_up"
   ]
  },
  {
   "cell_type": "code",
   "execution_count": 11,
   "metadata": {},
   "outputs": [
    {
     "name": "stdout",
     "output_type": "stream",
     "text": [
      "John Tracy\n",
      "Noah Tracy\n",
      "Cameron Tracy\n"
     ]
    }
   ],
   "source": [
    "for i in range(3):\n",
    "    nephews[i] = nephews[i] + \" Tracy\"\n",
    "    print(nephews[i])"
   ]
  },
  {
   "cell_type": "code",
   "execution_count": 12,
   "metadata": {},
   "outputs": [
    {
     "data": {
      "text/plain": [
       "['John Tracy', 'Noah Tracy', 'Cameron Tracy']"
      ]
     },
     "execution_count": 12,
     "metadata": {},
     "output_type": "execute_result"
    }
   ],
   "source": [
    "nephews"
   ]
  },
  {
   "cell_type": "code",
   "execution_count": 13,
   "metadata": {},
   "outputs": [],
   "source": [
    "nephews.append('Alex Tracy')"
   ]
  },
  {
   "cell_type": "code",
   "execution_count": 14,
   "metadata": {},
   "outputs": [
    {
     "data": {
      "text/plain": [
       "['John Tracy', 'Noah Tracy', 'Cameron Tracy', 'Alex Tracy']"
      ]
     },
     "execution_count": 14,
     "metadata": {},
     "output_type": "execute_result"
    }
   ],
   "source": [
    "nephews"
   ]
  },
  {
   "cell_type": "code",
   "execution_count": 15,
   "metadata": {},
   "outputs": [],
   "source": [
    "nephews.append(['Chase Tracy', 'Mike Tracy'])"
   ]
  },
  {
   "cell_type": "code",
   "execution_count": 16,
   "metadata": {},
   "outputs": [
    {
     "data": {
      "text/plain": [
       "['John Tracy',\n",
       " 'Noah Tracy',\n",
       " 'Cameron Tracy',\n",
       " 'Alex Tracy',\n",
       " ['Chase Tracy', 'Mike Tracy']]"
      ]
     },
     "execution_count": 16,
     "metadata": {},
     "output_type": "execute_result"
    }
   ],
   "source": [
    "nephews"
   ]
  },
  {
   "cell_type": "code",
   "execution_count": 17,
   "metadata": {},
   "outputs": [],
   "source": [
    "nephews.extend(['Kyle Tracy', 'Boomer Tracy'])"
   ]
  },
  {
   "cell_type": "code",
   "execution_count": 18,
   "metadata": {},
   "outputs": [
    {
     "data": {
      "text/plain": [
       "['John Tracy',\n",
       " 'Noah Tracy',\n",
       " 'Cameron Tracy',\n",
       " 'Alex Tracy',\n",
       " ['Chase Tracy', 'Mike Tracy'],\n",
       " 'Kyle Tracy',\n",
       " 'Boomer Tracy']"
      ]
     },
     "execution_count": 18,
     "metadata": {},
     "output_type": "execute_result"
    }
   ],
   "source": [
    "nephews"
   ]
  },
  {
   "cell_type": "code",
   "execution_count": 19,
   "metadata": {},
   "outputs": [],
   "source": [
    "all_nephews = nephews + ['John III Tracy', 'Kidney Tracy']"
   ]
  },
  {
   "cell_type": "code",
   "execution_count": 20,
   "metadata": {},
   "outputs": [
    {
     "data": {
      "text/plain": [
       "['John Tracy',\n",
       " 'Noah Tracy',\n",
       " 'Cameron Tracy',\n",
       " 'Alex Tracy',\n",
       " ['Chase Tracy', 'Mike Tracy'],\n",
       " 'Kyle Tracy',\n",
       " 'Boomer Tracy',\n",
       " 'John III Tracy',\n",
       " 'Kidney Tracy']"
      ]
     },
     "execution_count": 20,
     "metadata": {},
     "output_type": "execute_result"
    }
   ],
   "source": [
    "all_nephews"
   ]
  },
  {
   "cell_type": "code",
   "execution_count": 21,
   "metadata": {},
   "outputs": [],
   "source": [
    "all_nephews.insert(1, 'Lima Bean Tracy')"
   ]
  },
  {
   "cell_type": "code",
   "execution_count": 22,
   "metadata": {},
   "outputs": [
    {
     "data": {
      "text/plain": [
       "['John Tracy',\n",
       " 'Lima Bean Tracy',\n",
       " 'Noah Tracy',\n",
       " 'Cameron Tracy',\n",
       " 'Alex Tracy',\n",
       " ['Chase Tracy', 'Mike Tracy'],\n",
       " 'Kyle Tracy',\n",
       " 'Boomer Tracy',\n",
       " 'John III Tracy',\n",
       " 'Kidney Tracy']"
      ]
     },
     "execution_count": 22,
     "metadata": {},
     "output_type": "execute_result"
    }
   ],
   "source": [
    "all_nephews"
   ]
  },
  {
   "cell_type": "code",
   "execution_count": 23,
   "metadata": {},
   "outputs": [],
   "source": [
    "del all_nephews[5]"
   ]
  },
  {
   "cell_type": "code",
   "execution_count": 24,
   "metadata": {},
   "outputs": [
    {
     "data": {
      "text/plain": [
       "['John Tracy',\n",
       " 'Lima Bean Tracy',\n",
       " 'Noah Tracy',\n",
       " 'Cameron Tracy',\n",
       " 'Alex Tracy',\n",
       " 'Kyle Tracy',\n",
       " 'Boomer Tracy',\n",
       " 'John III Tracy',\n",
       " 'Kidney Tracy']"
      ]
     },
     "execution_count": 24,
     "metadata": {},
     "output_type": "execute_result"
    }
   ],
   "source": [
    "all_nephews"
   ]
  },
  {
   "cell_type": "code",
   "execution_count": 25,
   "metadata": {},
   "outputs": [],
   "source": [
    "all_nephews.sort()"
   ]
  },
  {
   "cell_type": "code",
   "execution_count": 26,
   "metadata": {},
   "outputs": [
    {
     "data": {
      "text/plain": [
       "['Alex Tracy',\n",
       " 'Boomer Tracy',\n",
       " 'Cameron Tracy',\n",
       " 'John III Tracy',\n",
       " 'John Tracy',\n",
       " 'Kidney Tracy',\n",
       " 'Kyle Tracy',\n",
       " 'Lima Bean Tracy',\n",
       " 'Noah Tracy']"
      ]
     },
     "execution_count": 26,
     "metadata": {},
     "output_type": "execute_result"
    }
   ],
   "source": [
    "all_nephews"
   ]
  },
  {
   "cell_type": "code",
   "execution_count": 27,
   "metadata": {},
   "outputs": [
    {
     "data": {
      "text/plain": [
       "['Alex Tracy',\n",
       " 'Boomer Tracy',\n",
       " 'Cameron Tracy',\n",
       " 'John III Tracy',\n",
       " 'John Tracy',\n",
       " 'Kidney Tracy',\n",
       " 'Kyle Tracy',\n",
       " 'Lima Bean Tracy',\n",
       " 'Noah Tracy']"
      ]
     },
     "execution_count": 27,
     "metadata": {},
     "output_type": "execute_result"
    }
   ],
   "source": [
    "all_nephews"
   ]
  },
  {
   "cell_type": "code",
   "execution_count": 28,
   "metadata": {},
   "outputs": [],
   "source": [
    "reverse_nephews = sorted(all_nephews, reverse=True)"
   ]
  },
  {
   "cell_type": "code",
   "execution_count": 29,
   "metadata": {},
   "outputs": [
    {
     "data": {
      "text/plain": [
       "['Noah Tracy',\n",
       " 'Lima Bean Tracy',\n",
       " 'Kyle Tracy',\n",
       " 'Kidney Tracy',\n",
       " 'John Tracy',\n",
       " 'John III Tracy',\n",
       " 'Cameron Tracy',\n",
       " 'Boomer Tracy',\n",
       " 'Alex Tracy']"
      ]
     },
     "execution_count": 29,
     "metadata": {},
     "output_type": "execute_result"
    }
   ],
   "source": [
    "reverse_nephews"
   ]
  },
  {
   "cell_type": "markdown",
   "metadata": {},
   "source": [
    "### Slicing"
   ]
  },
  {
   "cell_type": "code",
   "execution_count": null,
   "metadata": {},
   "outputs": [],
   "source": [
    "squares = [1, 4, 9, 16, 25, 36, 49]"
   ]
  },
  {
   "cell_type": "code",
   "execution_count": null,
   "metadata": {},
   "outputs": [],
   "source": [
    "squares[0:2]"
   ]
  },
  {
   "cell_type": "code",
   "execution_count": null,
   "metadata": {},
   "outputs": [],
   "source": [
    "squares[:4]"
   ]
  },
  {
   "cell_type": "code",
   "execution_count": null,
   "metadata": {},
   "outputs": [],
   "source": [
    "squares[4:]"
   ]
  },
  {
   "cell_type": "code",
   "execution_count": null,
   "metadata": {},
   "outputs": [],
   "source": [
    "squares[:]"
   ]
  },
  {
   "cell_type": "code",
   "execution_count": null,
   "metadata": {},
   "outputs": [],
   "source": [
    "squares[0:7:2]"
   ]
  },
  {
   "cell_type": "code",
   "execution_count": null,
   "metadata": {},
   "outputs": [],
   "source": [
    "squares[-3:-1]"
   ]
  },
  {
   "cell_type": "code",
   "execution_count": null,
   "metadata": {},
   "outputs": [],
   "source": [
    "squares[2:4] = ['nine', 'sixteen']"
   ]
  },
  {
   "cell_type": "code",
   "execution_count": null,
   "metadata": {},
   "outputs": [],
   "source": [
    "squares"
   ]
  },
  {
   "cell_type": "code",
   "execution_count": null,
   "metadata": {},
   "outputs": [],
   "source": [
    "del squares[4:6]"
   ]
  },
  {
   "cell_type": "code",
   "execution_count": null,
   "metadata": {},
   "outputs": [],
   "source": [
    "squares"
   ]
  },
  {
   "cell_type": "code",
   "execution_count": null,
   "metadata": {},
   "outputs": [],
   "source": [
    "# tuples have parentheses instead of brackets\n",
    "integers = ('one', 'two', 'three', 'four')"
   ]
  },
  {
   "cell_type": "code",
   "execution_count": null,
   "metadata": {},
   "outputs": [],
   "source": [
    "integers"
   ]
  },
  {
   "cell_type": "code",
   "execution_count": null,
   "metadata": {},
   "outputs": [],
   "source": [
    "integers[-2:]"
   ]
  },
  {
   "cell_type": "code",
   "execution_count": null,
   "metadata": {},
   "outputs": [],
   "source": [
    "integers[-3], integers[-1]"
   ]
  },
  {
   "cell_type": "code",
   "execution_count": null,
   "metadata": {},
   "outputs": [],
   "source": [
    "integers[-4:-2], integers[-1]"
   ]
  },
  {
   "cell_type": "code",
   "execution_count": null,
   "metadata": {},
   "outputs": [],
   "source": [
    "(a, b) = (1, 2)"
   ]
  },
  {
   "cell_type": "code",
   "execution_count": null,
   "metadata": {},
   "outputs": [],
   "source": [
    "c, d = 3, 4"
   ]
  },
  {
   "cell_type": "code",
   "execution_count": 30,
   "metadata": {},
   "outputs": [
    {
     "name": "stdout",
     "output_type": "stream",
     "text": [
      "0 Alex Tracy\n",
      "1 Boomer Tracy\n",
      "2 Cameron Tracy\n",
      "3 John III Tracy\n",
      "4 John Tracy\n",
      "5 Kidney Tracy\n",
      "6 Kyle Tracy\n",
      "7 Lima Bean Tracy\n",
      "8 Noah Tracy\n"
     ]
    }
   ],
   "source": [
    "for i, nephew in enumerate(all_nephews):\n",
    "    print(i, nephew)"
   ]
  },
  {
   "cell_type": "code",
   "execution_count": 31,
   "metadata": {},
   "outputs": [],
   "source": [
    "def three_args(a, b, c):\n",
    "    print(a, b, c)"
   ]
  },
  {
   "cell_type": "code",
   "execution_count": 32,
   "metadata": {},
   "outputs": [],
   "source": [
    "my_args = (1, 2, 3)"
   ]
  },
  {
   "cell_type": "code",
   "execution_count": 34,
   "metadata": {},
   "outputs": [
    {
     "name": "stdout",
     "output_type": "stream",
     "text": [
      "1 2 3\n"
     ]
    }
   ],
   "source": [
    "three_args(*my_args)"
   ]
  },
  {
   "cell_type": "code",
   "execution_count": null,
   "metadata": {},
   "outputs": [],
   "source": []
  }
 ],
 "metadata": {
  "kernelspec": {
   "display_name": "Python 3",
   "language": "python",
   "name": "python3"
  },
  "language_info": {
   "codemirror_mode": {
    "name": "ipython",
    "version": 3
   },
   "file_extension": ".py",
   "mimetype": "text/x-python",
   "name": "python",
   "nbconvert_exporter": "python",
   "pygments_lexer": "ipython3",
   "version": "3.7.4"
  }
 },
 "nbformat": 4,
 "nbformat_minor": 2
}
