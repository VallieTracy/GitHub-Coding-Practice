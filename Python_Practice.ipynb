{
 "cells": [
  {
   "cell_type": "markdown",
   "metadata": {},
   "source": [
    "## Pascal's Triangle (Python)\n",
    "\n",
    "Given a non-negative integer numRows, generate the first numRows of Pascal's triangle.\n",
    "\n",
    "In Pascal's triangle, each number is the sum of the two numbers directly above it.\n",
    "\n",
    "Example:\n",
    "\n",
    "Input: 5\n",
    "Output:\n",
    "[\n",
    "     [1],\n",
    "    [1,1],\n",
    "   [1,2,1],\n",
    "  [1,3,3,1],\n",
    " [1,4,6,4,1]\n",
    "]"
   ]
  },
  {
   "cell_type": "code",
   "execution_count": 1,
   "metadata": {},
   "outputs": [
    {
     "name": "stdout",
     "output_type": "stream",
     "text": [
      "Hello World!\n"
     ]
    }
   ],
   "source": [
    "def printHello():\n",
    "    print(f\"Hello World!\")\n",
    "    \n",
    "printHello()"
   ]
  },
  {
   "cell_type": "code",
   "execution_count": 2,
   "metadata": {},
   "outputs": [
    {
     "name": "stdout",
     "output_type": "stream",
     "text": [
      "Hello Vallie!\n",
      "Using an f-string: Hi Vallie.\n"
     ]
    }
   ],
   "source": [
    "name = \"Vallie\"\n",
    "\n",
    "def printName(name):\n",
    "    print(\"Hello \" + name + \"!\")\n",
    "    print(f\"Using an f-string: Hi {name}.\")\n",
    "printName(name)"
   ]
  },
  {
   "cell_type": "code",
   "execution_count": 3,
   "metadata": {},
   "outputs": [
    {
     "name": "stdout",
     "output_type": "stream",
     "text": [
      "2\n",
      "------------------\n",
      "a + b = 5\n",
      "a x b = 6\n",
      "(a + b) - (a x b) = 5 - 6\n",
      "{-1}\n",
      "-1\n"
     ]
    }
   ],
   "source": [
    "def addNumbers():\n",
    "    print(1 + 1)\n",
    "\n",
    "addNumbers()\n",
    "\n",
    "print(f\"------------------\")\n",
    "\n",
    "a = 2\n",
    "b = 3\n",
    "\n",
    "def adding():\n",
    "    print(f\"a + b = {a + b}\")\n",
    "adding()\n",
    "\n",
    "def multiplying():\n",
    "    print(f\"a x b = {a * b}\")\n",
    "multiplying()\n",
    "\n",
    "def otherFunction():\n",
    "    print(f\"(a + b) - (a x b) = {a + b} - {a * b}\")\n",
    "    print({(a + b) - (a * b)})\n",
    "    print((a + b) - (a * b))\n",
    "otherFunction()"
   ]
  },
  {
   "cell_type": "code",
   "execution_count": 4,
   "metadata": {},
   "outputs": [
    {
     "name": "stdout",
     "output_type": "stream",
     "text": [
      "The values within the list are:\n",
      "1\n",
      "3\n",
      "7\n",
      "8\n",
      "12\n",
      "The length of this list is 5\n",
      "The values within the list are:\n",
      "0\n",
      "2\n",
      "1\n",
      "The length of this list is 3\n"
     ]
    }
   ],
   "source": [
    "listOne = [1, 3, 7, 8, 12]\n",
    "listTwo = [0, 2, 1]\n",
    "    \n",
    "def printList(numbersList):\n",
    "    print(f\"The values within the list are:\")\n",
    "    for number in numbersList:\n",
    "        print(number)\n",
    "    print(\"The length of this list is \" + str(len(numbersList)))\n",
    "\n",
    "printList(listOne)\n",
    "printList(listTwo)"
   ]
  },
  {
   "cell_type": "code",
   "execution_count": 5,
   "metadata": {},
   "outputs": [
    {
     "name": "stdout",
     "output_type": "stream",
     "text": [
      "2\n",
      "4\n",
      "8\n",
      "9\n",
      "13\n",
      "---------\n",
      "The sum of listOne is 31\n",
      "----------\n",
      "1\n",
      "4\n",
      "11\n",
      "19\n",
      "31\n"
     ]
    }
   ],
   "source": [
    "def plusOne(myArray):\n",
    "    for number in myArray:\n",
    "        print(number + 1)\n",
    "        \n",
    "plusOne(listOne)\n",
    "\n",
    "print(f\"---------\")\n",
    "\n",
    "print(f\"The sum of listOne is {sum(listOne)}\") \n",
    "\n",
    "print(\"----------\")\n",
    "\n",
    "def addArray(myArray):\n",
    "    total = 0\n",
    "    for number in myArray:\n",
    "        total += number\n",
    "        print(total)\n",
    "\n",
    "addArray(listOne)\n",
    "# need to figure out how to add together and just get the final total"
   ]
  },
  {
   "cell_type": "code",
   "execution_count": 6,
   "metadata": {},
   "outputs": [
    {
     "data": {
      "text/plain": [
       "34"
      ]
     },
     "execution_count": 6,
     "metadata": {},
     "output_type": "execute_result"
    }
   ],
   "source": [
    "listA = [4, 2, 0, 1]\n",
    "listB = [10, 1, 1, 2, 20]\n",
    "\n",
    "def sum_1(anArray):\n",
    "    total = 0\n",
    "    for x in anArray:\n",
    "        total += x\n",
    "    return total\n",
    "sum_1(listB)"
   ]
  },
  {
   "cell_type": "code",
   "execution_count": 7,
   "metadata": {},
   "outputs": [
    {
     "name": "stdout",
     "output_type": "stream",
     "text": [
      "[1]\n",
      "[2]\n",
      "[3]\n",
      "[4]\n",
      "[5]\n"
     ]
    }
   ],
   "source": [
    "for x in range(1, 6):\n",
    "    print([x])"
   ]
  },
  {
   "cell_type": "code",
   "execution_count": 8,
   "metadata": {},
   "outputs": [
    {
     "name": "stdout",
     "output_type": "stream",
     "text": [
      "1  \n",
      "1 1  \n",
      "1 2 1  \n",
      "1 3 3 1  \n",
      "1 4 6 4 1  \n"
     ]
    }
   ],
   "source": [
    "memory = {}\n",
    "\n",
    "def pascal_soln(row, col):\n",
    "    index = (row, col)\n",
    "    if index in memory: return memory[index]\n",
    "    if (col == 1): return 1\n",
    "    if (col == row): return 1\n",
    "    up_left = pascal_soln(row - 1, col - 1)\n",
    "    up_right = pascal_soln(row - 1, col)\n",
    "    memory[index] = up_left + up_right\n",
    "    return up_left + up_right\n",
    "\n",
    "for r in range(1, 6):\n",
    "    for c in range(1, r + 1):\n",
    "        print(pascal_soln(r, c), end = \" \")\n",
    "    print(\" \")"
   ]
  },
  {
   "cell_type": "markdown",
   "metadata": {},
   "source": [
    "## Python LI Learning"
   ]
  },
  {
   "cell_type": "code",
   "execution_count": 9,
   "metadata": {},
   "outputs": [],
   "source": [
    "import math\n",
    "import collections\n",
    "\n",
    "import numpy as np\n",
    "import pandas as pd\n",
    "import matplotlib.pyplot as pp\n",
    "\n",
    "%matplotlib inline"
   ]
  },
  {
   "cell_type": "code",
   "execution_count": 10,
   "metadata": {},
   "outputs": [
    {
     "name": "stdout",
     "output_type": "stream",
     "text": [
      "0\n",
      "2\n",
      "4\n",
      "6\n",
      "8\n"
     ]
    }
   ],
   "source": [
    "for i in range(0, 10, 2):\n",
    "    print(i)"
   ]
  },
  {
   "cell_type": "code",
   "execution_count": 11,
   "metadata": {},
   "outputs": [
    {
     "name": "stdout",
     "output_type": "stream",
     "text": [
      "0\n",
      "1\n",
      "2\n",
      "3\n",
      "4\n"
     ]
    }
   ],
   "source": [
    "for i in range(5):\n",
    "    print(i)"
   ]
  },
  {
   "cell_type": "code",
   "execution_count": 12,
   "metadata": {},
   "outputs": [],
   "source": [
    "combinations = []\n",
    "\n",
    "for count_100 in range(1 + 1):\n",
    "    for count_50 in range(2 + 1):\n",
    "        for count_25 in range(4 + 1):\n",
    "            for count_10 in range(10 + 1):\n",
    "                for count_5 in range(20 + 1):\n",
    "                    for count_1 in range (100 + 1):\n",
    "                        if 100*count_100 + 50*count_50 + 25*count_25 + 10*count_10 + 5*count_5 + 1*count_1 == 100:\n",
    "                            combinations.append([count_100, count_50, count_25, count_10, count_5, count_1])"
   ]
  },
  {
   "cell_type": "code",
   "execution_count": 13,
   "metadata": {},
   "outputs": [
    {
     "data": {
      "text/plain": [
       "[[0, 0, 0, 0, 0, 100],\n",
       " [0, 0, 0, 0, 1, 95],\n",
       " [0, 0, 0, 0, 2, 90],\n",
       " [0, 0, 0, 0, 3, 85],\n",
       " [0, 0, 0, 0, 4, 80],\n",
       " [0, 0, 0, 0, 5, 75],\n",
       " [0, 0, 0, 0, 6, 70],\n",
       " [0, 0, 0, 0, 7, 65],\n",
       " [0, 0, 0, 0, 8, 60],\n",
       " [0, 0, 0, 0, 9, 55],\n",
       " [0, 0, 0, 0, 10, 50],\n",
       " [0, 0, 0, 0, 11, 45],\n",
       " [0, 0, 0, 0, 12, 40],\n",
       " [0, 0, 0, 0, 13, 35],\n",
       " [0, 0, 0, 0, 14, 30],\n",
       " [0, 0, 0, 0, 15, 25],\n",
       " [0, 0, 0, 0, 16, 20],\n",
       " [0, 0, 0, 0, 17, 15],\n",
       " [0, 0, 0, 0, 18, 10],\n",
       " [0, 0, 0, 0, 19, 5],\n",
       " [0, 0, 0, 0, 20, 0],\n",
       " [0, 0, 0, 1, 0, 90],\n",
       " [0, 0, 0, 1, 1, 85],\n",
       " [0, 0, 0, 1, 2, 80],\n",
       " [0, 0, 0, 1, 3, 75],\n",
       " [0, 0, 0, 1, 4, 70],\n",
       " [0, 0, 0, 1, 5, 65],\n",
       " [0, 0, 0, 1, 6, 60],\n",
       " [0, 0, 0, 1, 7, 55],\n",
       " [0, 0, 0, 1, 8, 50],\n",
       " [0, 0, 0, 1, 9, 45],\n",
       " [0, 0, 0, 1, 10, 40],\n",
       " [0, 0, 0, 1, 11, 35],\n",
       " [0, 0, 0, 1, 12, 30],\n",
       " [0, 0, 0, 1, 13, 25],\n",
       " [0, 0, 0, 1, 14, 20],\n",
       " [0, 0, 0, 1, 15, 15],\n",
       " [0, 0, 0, 1, 16, 10],\n",
       " [0, 0, 0, 1, 17, 5],\n",
       " [0, 0, 0, 1, 18, 0],\n",
       " [0, 0, 0, 2, 0, 80],\n",
       " [0, 0, 0, 2, 1, 75],\n",
       " [0, 0, 0, 2, 2, 70],\n",
       " [0, 0, 0, 2, 3, 65],\n",
       " [0, 0, 0, 2, 4, 60],\n",
       " [0, 0, 0, 2, 5, 55],\n",
       " [0, 0, 0, 2, 6, 50],\n",
       " [0, 0, 0, 2, 7, 45],\n",
       " [0, 0, 0, 2, 8, 40],\n",
       " [0, 0, 0, 2, 9, 35],\n",
       " [0, 0, 0, 2, 10, 30],\n",
       " [0, 0, 0, 2, 11, 25],\n",
       " [0, 0, 0, 2, 12, 20],\n",
       " [0, 0, 0, 2, 13, 15],\n",
       " [0, 0, 0, 2, 14, 10],\n",
       " [0, 0, 0, 2, 15, 5],\n",
       " [0, 0, 0, 2, 16, 0],\n",
       " [0, 0, 0, 3, 0, 70],\n",
       " [0, 0, 0, 3, 1, 65],\n",
       " [0, 0, 0, 3, 2, 60],\n",
       " [0, 0, 0, 3, 3, 55],\n",
       " [0, 0, 0, 3, 4, 50],\n",
       " [0, 0, 0, 3, 5, 45],\n",
       " [0, 0, 0, 3, 6, 40],\n",
       " [0, 0, 0, 3, 7, 35],\n",
       " [0, 0, 0, 3, 8, 30],\n",
       " [0, 0, 0, 3, 9, 25],\n",
       " [0, 0, 0, 3, 10, 20],\n",
       " [0, 0, 0, 3, 11, 15],\n",
       " [0, 0, 0, 3, 12, 10],\n",
       " [0, 0, 0, 3, 13, 5],\n",
       " [0, 0, 0, 3, 14, 0],\n",
       " [0, 0, 0, 4, 0, 60],\n",
       " [0, 0, 0, 4, 1, 55],\n",
       " [0, 0, 0, 4, 2, 50],\n",
       " [0, 0, 0, 4, 3, 45],\n",
       " [0, 0, 0, 4, 4, 40],\n",
       " [0, 0, 0, 4, 5, 35],\n",
       " [0, 0, 0, 4, 6, 30],\n",
       " [0, 0, 0, 4, 7, 25],\n",
       " [0, 0, 0, 4, 8, 20],\n",
       " [0, 0, 0, 4, 9, 15],\n",
       " [0, 0, 0, 4, 10, 10],\n",
       " [0, 0, 0, 4, 11, 5],\n",
       " [0, 0, 0, 4, 12, 0],\n",
       " [0, 0, 0, 5, 0, 50],\n",
       " [0, 0, 0, 5, 1, 45],\n",
       " [0, 0, 0, 5, 2, 40],\n",
       " [0, 0, 0, 5, 3, 35],\n",
       " [0, 0, 0, 5, 4, 30],\n",
       " [0, 0, 0, 5, 5, 25],\n",
       " [0, 0, 0, 5, 6, 20],\n",
       " [0, 0, 0, 5, 7, 15],\n",
       " [0, 0, 0, 5, 8, 10],\n",
       " [0, 0, 0, 5, 9, 5],\n",
       " [0, 0, 0, 5, 10, 0],\n",
       " [0, 0, 0, 6, 0, 40],\n",
       " [0, 0, 0, 6, 1, 35],\n",
       " [0, 0, 0, 6, 2, 30],\n",
       " [0, 0, 0, 6, 3, 25],\n",
       " [0, 0, 0, 6, 4, 20],\n",
       " [0, 0, 0, 6, 5, 15],\n",
       " [0, 0, 0, 6, 6, 10],\n",
       " [0, 0, 0, 6, 7, 5],\n",
       " [0, 0, 0, 6, 8, 0],\n",
       " [0, 0, 0, 7, 0, 30],\n",
       " [0, 0, 0, 7, 1, 25],\n",
       " [0, 0, 0, 7, 2, 20],\n",
       " [0, 0, 0, 7, 3, 15],\n",
       " [0, 0, 0, 7, 4, 10],\n",
       " [0, 0, 0, 7, 5, 5],\n",
       " [0, 0, 0, 7, 6, 0],\n",
       " [0, 0, 0, 8, 0, 20],\n",
       " [0, 0, 0, 8, 1, 15],\n",
       " [0, 0, 0, 8, 2, 10],\n",
       " [0, 0, 0, 8, 3, 5],\n",
       " [0, 0, 0, 8, 4, 0],\n",
       " [0, 0, 0, 9, 0, 10],\n",
       " [0, 0, 0, 9, 1, 5],\n",
       " [0, 0, 0, 9, 2, 0],\n",
       " [0, 0, 0, 10, 0, 0],\n",
       " [0, 0, 1, 0, 0, 75],\n",
       " [0, 0, 1, 0, 1, 70],\n",
       " [0, 0, 1, 0, 2, 65],\n",
       " [0, 0, 1, 0, 3, 60],\n",
       " [0, 0, 1, 0, 4, 55],\n",
       " [0, 0, 1, 0, 5, 50],\n",
       " [0, 0, 1, 0, 6, 45],\n",
       " [0, 0, 1, 0, 7, 40],\n",
       " [0, 0, 1, 0, 8, 35],\n",
       " [0, 0, 1, 0, 9, 30],\n",
       " [0, 0, 1, 0, 10, 25],\n",
       " [0, 0, 1, 0, 11, 20],\n",
       " [0, 0, 1, 0, 12, 15],\n",
       " [0, 0, 1, 0, 13, 10],\n",
       " [0, 0, 1, 0, 14, 5],\n",
       " [0, 0, 1, 0, 15, 0],\n",
       " [0, 0, 1, 1, 0, 65],\n",
       " [0, 0, 1, 1, 1, 60],\n",
       " [0, 0, 1, 1, 2, 55],\n",
       " [0, 0, 1, 1, 3, 50],\n",
       " [0, 0, 1, 1, 4, 45],\n",
       " [0, 0, 1, 1, 5, 40],\n",
       " [0, 0, 1, 1, 6, 35],\n",
       " [0, 0, 1, 1, 7, 30],\n",
       " [0, 0, 1, 1, 8, 25],\n",
       " [0, 0, 1, 1, 9, 20],\n",
       " [0, 0, 1, 1, 10, 15],\n",
       " [0, 0, 1, 1, 11, 10],\n",
       " [0, 0, 1, 1, 12, 5],\n",
       " [0, 0, 1, 1, 13, 0],\n",
       " [0, 0, 1, 2, 0, 55],\n",
       " [0, 0, 1, 2, 1, 50],\n",
       " [0, 0, 1, 2, 2, 45],\n",
       " [0, 0, 1, 2, 3, 40],\n",
       " [0, 0, 1, 2, 4, 35],\n",
       " [0, 0, 1, 2, 5, 30],\n",
       " [0, 0, 1, 2, 6, 25],\n",
       " [0, 0, 1, 2, 7, 20],\n",
       " [0, 0, 1, 2, 8, 15],\n",
       " [0, 0, 1, 2, 9, 10],\n",
       " [0, 0, 1, 2, 10, 5],\n",
       " [0, 0, 1, 2, 11, 0],\n",
       " [0, 0, 1, 3, 0, 45],\n",
       " [0, 0, 1, 3, 1, 40],\n",
       " [0, 0, 1, 3, 2, 35],\n",
       " [0, 0, 1, 3, 3, 30],\n",
       " [0, 0, 1, 3, 4, 25],\n",
       " [0, 0, 1, 3, 5, 20],\n",
       " [0, 0, 1, 3, 6, 15],\n",
       " [0, 0, 1, 3, 7, 10],\n",
       " [0, 0, 1, 3, 8, 5],\n",
       " [0, 0, 1, 3, 9, 0],\n",
       " [0, 0, 1, 4, 0, 35],\n",
       " [0, 0, 1, 4, 1, 30],\n",
       " [0, 0, 1, 4, 2, 25],\n",
       " [0, 0, 1, 4, 3, 20],\n",
       " [0, 0, 1, 4, 4, 15],\n",
       " [0, 0, 1, 4, 5, 10],\n",
       " [0, 0, 1, 4, 6, 5],\n",
       " [0, 0, 1, 4, 7, 0],\n",
       " [0, 0, 1, 5, 0, 25],\n",
       " [0, 0, 1, 5, 1, 20],\n",
       " [0, 0, 1, 5, 2, 15],\n",
       " [0, 0, 1, 5, 3, 10],\n",
       " [0, 0, 1, 5, 4, 5],\n",
       " [0, 0, 1, 5, 5, 0],\n",
       " [0, 0, 1, 6, 0, 15],\n",
       " [0, 0, 1, 6, 1, 10],\n",
       " [0, 0, 1, 6, 2, 5],\n",
       " [0, 0, 1, 6, 3, 0],\n",
       " [0, 0, 1, 7, 0, 5],\n",
       " [0, 0, 1, 7, 1, 0],\n",
       " [0, 0, 2, 0, 0, 50],\n",
       " [0, 0, 2, 0, 1, 45],\n",
       " [0, 0, 2, 0, 2, 40],\n",
       " [0, 0, 2, 0, 3, 35],\n",
       " [0, 0, 2, 0, 4, 30],\n",
       " [0, 0, 2, 0, 5, 25],\n",
       " [0, 0, 2, 0, 6, 20],\n",
       " [0, 0, 2, 0, 7, 15],\n",
       " [0, 0, 2, 0, 8, 10],\n",
       " [0, 0, 2, 0, 9, 5],\n",
       " [0, 0, 2, 0, 10, 0],\n",
       " [0, 0, 2, 1, 0, 40],\n",
       " [0, 0, 2, 1, 1, 35],\n",
       " [0, 0, 2, 1, 2, 30],\n",
       " [0, 0, 2, 1, 3, 25],\n",
       " [0, 0, 2, 1, 4, 20],\n",
       " [0, 0, 2, 1, 5, 15],\n",
       " [0, 0, 2, 1, 6, 10],\n",
       " [0, 0, 2, 1, 7, 5],\n",
       " [0, 0, 2, 1, 8, 0],\n",
       " [0, 0, 2, 2, 0, 30],\n",
       " [0, 0, 2, 2, 1, 25],\n",
       " [0, 0, 2, 2, 2, 20],\n",
       " [0, 0, 2, 2, 3, 15],\n",
       " [0, 0, 2, 2, 4, 10],\n",
       " [0, 0, 2, 2, 5, 5],\n",
       " [0, 0, 2, 2, 6, 0],\n",
       " [0, 0, 2, 3, 0, 20],\n",
       " [0, 0, 2, 3, 1, 15],\n",
       " [0, 0, 2, 3, 2, 10],\n",
       " [0, 0, 2, 3, 3, 5],\n",
       " [0, 0, 2, 3, 4, 0],\n",
       " [0, 0, 2, 4, 0, 10],\n",
       " [0, 0, 2, 4, 1, 5],\n",
       " [0, 0, 2, 4, 2, 0],\n",
       " [0, 0, 2, 5, 0, 0],\n",
       " [0, 0, 3, 0, 0, 25],\n",
       " [0, 0, 3, 0, 1, 20],\n",
       " [0, 0, 3, 0, 2, 15],\n",
       " [0, 0, 3, 0, 3, 10],\n",
       " [0, 0, 3, 0, 4, 5],\n",
       " [0, 0, 3, 0, 5, 0],\n",
       " [0, 0, 3, 1, 0, 15],\n",
       " [0, 0, 3, 1, 1, 10],\n",
       " [0, 0, 3, 1, 2, 5],\n",
       " [0, 0, 3, 1, 3, 0],\n",
       " [0, 0, 3, 2, 0, 5],\n",
       " [0, 0, 3, 2, 1, 0],\n",
       " [0, 0, 4, 0, 0, 0],\n",
       " [0, 1, 0, 0, 0, 50],\n",
       " [0, 1, 0, 0, 1, 45],\n",
       " [0, 1, 0, 0, 2, 40],\n",
       " [0, 1, 0, 0, 3, 35],\n",
       " [0, 1, 0, 0, 4, 30],\n",
       " [0, 1, 0, 0, 5, 25],\n",
       " [0, 1, 0, 0, 6, 20],\n",
       " [0, 1, 0, 0, 7, 15],\n",
       " [0, 1, 0, 0, 8, 10],\n",
       " [0, 1, 0, 0, 9, 5],\n",
       " [0, 1, 0, 0, 10, 0],\n",
       " [0, 1, 0, 1, 0, 40],\n",
       " [0, 1, 0, 1, 1, 35],\n",
       " [0, 1, 0, 1, 2, 30],\n",
       " [0, 1, 0, 1, 3, 25],\n",
       " [0, 1, 0, 1, 4, 20],\n",
       " [0, 1, 0, 1, 5, 15],\n",
       " [0, 1, 0, 1, 6, 10],\n",
       " [0, 1, 0, 1, 7, 5],\n",
       " [0, 1, 0, 1, 8, 0],\n",
       " [0, 1, 0, 2, 0, 30],\n",
       " [0, 1, 0, 2, 1, 25],\n",
       " [0, 1, 0, 2, 2, 20],\n",
       " [0, 1, 0, 2, 3, 15],\n",
       " [0, 1, 0, 2, 4, 10],\n",
       " [0, 1, 0, 2, 5, 5],\n",
       " [0, 1, 0, 2, 6, 0],\n",
       " [0, 1, 0, 3, 0, 20],\n",
       " [0, 1, 0, 3, 1, 15],\n",
       " [0, 1, 0, 3, 2, 10],\n",
       " [0, 1, 0, 3, 3, 5],\n",
       " [0, 1, 0, 3, 4, 0],\n",
       " [0, 1, 0, 4, 0, 10],\n",
       " [0, 1, 0, 4, 1, 5],\n",
       " [0, 1, 0, 4, 2, 0],\n",
       " [0, 1, 0, 5, 0, 0],\n",
       " [0, 1, 1, 0, 0, 25],\n",
       " [0, 1, 1, 0, 1, 20],\n",
       " [0, 1, 1, 0, 2, 15],\n",
       " [0, 1, 1, 0, 3, 10],\n",
       " [0, 1, 1, 0, 4, 5],\n",
       " [0, 1, 1, 0, 5, 0],\n",
       " [0, 1, 1, 1, 0, 15],\n",
       " [0, 1, 1, 1, 1, 10],\n",
       " [0, 1, 1, 1, 2, 5],\n",
       " [0, 1, 1, 1, 3, 0],\n",
       " [0, 1, 1, 2, 0, 5],\n",
       " [0, 1, 1, 2, 1, 0],\n",
       " [0, 1, 2, 0, 0, 0],\n",
       " [0, 2, 0, 0, 0, 0],\n",
       " [1, 0, 0, 0, 0, 0]]"
      ]
     },
     "execution_count": 13,
     "metadata": {},
     "output_type": "execute_result"
    }
   ],
   "source": [
    "combinations"
   ]
  },
  {
   "cell_type": "code",
   "execution_count": 14,
   "metadata": {},
   "outputs": [
    {
     "data": {
      "text/plain": [
       "293"
      ]
     },
     "execution_count": 14,
     "metadata": {},
     "output_type": "execute_result"
    }
   ],
   "source": [
    "len(combinations)"
   ]
  },
  {
   "cell_type": "code",
   "execution_count": 15,
   "metadata": {},
   "outputs": [
    {
     "name": "stdout",
     "output_type": "stream",
     "text": [
      "0\n",
      "1\n",
      "2\n",
      "3\n",
      "4\n"
     ]
    }
   ],
   "source": [
    "for count_25 in range(4 + 1):\n",
    "    print(count_25)"
   ]
  },
  {
   "cell_type": "code",
   "execution_count": 16,
   "metadata": {},
   "outputs": [
    {
     "name": "stdout",
     "output_type": "stream",
     "text": [
      "0\n",
      "25\n",
      "50\n",
      "75\n",
      "100\n"
     ]
    }
   ],
   "source": [
    "for amount_25 in range(0, 100+1, 25):\n",
    "    print(amount_25)"
   ]
  },
  {
   "cell_type": "code",
   "execution_count": 17,
   "metadata": {},
   "outputs": [
    {
     "name": "stdout",
     "output_type": "stream",
     "text": [
      "0\n",
      "10\n",
      "20\n",
      "30\n",
      "40\n",
      "50\n"
     ]
    }
   ],
   "source": [
    "for amount_10 in range(0, 50 + 1, 10):\n",
    "    print(amount_10)"
   ]
  },
  {
   "cell_type": "code",
   "execution_count": 18,
   "metadata": {},
   "outputs": [],
   "source": [
    "combo_amounts = []\n",
    "\n",
    "for amount_100 in range(0, 100 + 1, 100):\n",
    "    for amount_50 in range(0, 100 + 1, 50):\n",
    "        for amount_25 in range(0, 100 + 1, 25):\n",
    "            for amount_10 in range(0, 100 + 1, 10):\n",
    "                for amount_5 in range(0, 100 + 1, 5):\n",
    "                    total_so_far = amount_100 + amount_50 + amount_25 + amount_10 + amount_5\n",
    "                    \n",
    "                    if total_so_far <= 100:\n",
    "                        combo_amounts.append([amount_100, amount_50, amount_25, amount_10, amount_5, 100 - total_so_far])"
   ]
  },
  {
   "cell_type": "code",
   "execution_count": 19,
   "metadata": {},
   "outputs": [
    {
     "data": {
      "text/plain": [
       "[[0, 0, 0, 0, 0, 100],\n",
       " [0, 0, 0, 0, 5, 95],\n",
       " [0, 0, 0, 0, 10, 90],\n",
       " [0, 0, 0, 0, 15, 85],\n",
       " [0, 0, 0, 0, 20, 80],\n",
       " [0, 0, 0, 0, 25, 75],\n",
       " [0, 0, 0, 0, 30, 70],\n",
       " [0, 0, 0, 0, 35, 65],\n",
       " [0, 0, 0, 0, 40, 60],\n",
       " [0, 0, 0, 0, 45, 55],\n",
       " [0, 0, 0, 0, 50, 50],\n",
       " [0, 0, 0, 0, 55, 45],\n",
       " [0, 0, 0, 0, 60, 40],\n",
       " [0, 0, 0, 0, 65, 35],\n",
       " [0, 0, 0, 0, 70, 30],\n",
       " [0, 0, 0, 0, 75, 25],\n",
       " [0, 0, 0, 0, 80, 20],\n",
       " [0, 0, 0, 0, 85, 15],\n",
       " [0, 0, 0, 0, 90, 10],\n",
       " [0, 0, 0, 0, 95, 5],\n",
       " [0, 0, 0, 0, 100, 0],\n",
       " [0, 0, 0, 10, 0, 90],\n",
       " [0, 0, 0, 10, 5, 85],\n",
       " [0, 0, 0, 10, 10, 80],\n",
       " [0, 0, 0, 10, 15, 75],\n",
       " [0, 0, 0, 10, 20, 70],\n",
       " [0, 0, 0, 10, 25, 65],\n",
       " [0, 0, 0, 10, 30, 60],\n",
       " [0, 0, 0, 10, 35, 55],\n",
       " [0, 0, 0, 10, 40, 50],\n",
       " [0, 0, 0, 10, 45, 45],\n",
       " [0, 0, 0, 10, 50, 40],\n",
       " [0, 0, 0, 10, 55, 35],\n",
       " [0, 0, 0, 10, 60, 30],\n",
       " [0, 0, 0, 10, 65, 25],\n",
       " [0, 0, 0, 10, 70, 20],\n",
       " [0, 0, 0, 10, 75, 15],\n",
       " [0, 0, 0, 10, 80, 10],\n",
       " [0, 0, 0, 10, 85, 5],\n",
       " [0, 0, 0, 10, 90, 0],\n",
       " [0, 0, 0, 20, 0, 80],\n",
       " [0, 0, 0, 20, 5, 75],\n",
       " [0, 0, 0, 20, 10, 70],\n",
       " [0, 0, 0, 20, 15, 65],\n",
       " [0, 0, 0, 20, 20, 60],\n",
       " [0, 0, 0, 20, 25, 55],\n",
       " [0, 0, 0, 20, 30, 50],\n",
       " [0, 0, 0, 20, 35, 45],\n",
       " [0, 0, 0, 20, 40, 40],\n",
       " [0, 0, 0, 20, 45, 35],\n",
       " [0, 0, 0, 20, 50, 30],\n",
       " [0, 0, 0, 20, 55, 25],\n",
       " [0, 0, 0, 20, 60, 20],\n",
       " [0, 0, 0, 20, 65, 15],\n",
       " [0, 0, 0, 20, 70, 10],\n",
       " [0, 0, 0, 20, 75, 5],\n",
       " [0, 0, 0, 20, 80, 0],\n",
       " [0, 0, 0, 30, 0, 70],\n",
       " [0, 0, 0, 30, 5, 65],\n",
       " [0, 0, 0, 30, 10, 60],\n",
       " [0, 0, 0, 30, 15, 55],\n",
       " [0, 0, 0, 30, 20, 50],\n",
       " [0, 0, 0, 30, 25, 45],\n",
       " [0, 0, 0, 30, 30, 40],\n",
       " [0, 0, 0, 30, 35, 35],\n",
       " [0, 0, 0, 30, 40, 30],\n",
       " [0, 0, 0, 30, 45, 25],\n",
       " [0, 0, 0, 30, 50, 20],\n",
       " [0, 0, 0, 30, 55, 15],\n",
       " [0, 0, 0, 30, 60, 10],\n",
       " [0, 0, 0, 30, 65, 5],\n",
       " [0, 0, 0, 30, 70, 0],\n",
       " [0, 0, 0, 40, 0, 60],\n",
       " [0, 0, 0, 40, 5, 55],\n",
       " [0, 0, 0, 40, 10, 50],\n",
       " [0, 0, 0, 40, 15, 45],\n",
       " [0, 0, 0, 40, 20, 40],\n",
       " [0, 0, 0, 40, 25, 35],\n",
       " [0, 0, 0, 40, 30, 30],\n",
       " [0, 0, 0, 40, 35, 25],\n",
       " [0, 0, 0, 40, 40, 20],\n",
       " [0, 0, 0, 40, 45, 15],\n",
       " [0, 0, 0, 40, 50, 10],\n",
       " [0, 0, 0, 40, 55, 5],\n",
       " [0, 0, 0, 40, 60, 0],\n",
       " [0, 0, 0, 50, 0, 50],\n",
       " [0, 0, 0, 50, 5, 45],\n",
       " [0, 0, 0, 50, 10, 40],\n",
       " [0, 0, 0, 50, 15, 35],\n",
       " [0, 0, 0, 50, 20, 30],\n",
       " [0, 0, 0, 50, 25, 25],\n",
       " [0, 0, 0, 50, 30, 20],\n",
       " [0, 0, 0, 50, 35, 15],\n",
       " [0, 0, 0, 50, 40, 10],\n",
       " [0, 0, 0, 50, 45, 5],\n",
       " [0, 0, 0, 50, 50, 0],\n",
       " [0, 0, 0, 60, 0, 40],\n",
       " [0, 0, 0, 60, 5, 35],\n",
       " [0, 0, 0, 60, 10, 30],\n",
       " [0, 0, 0, 60, 15, 25],\n",
       " [0, 0, 0, 60, 20, 20],\n",
       " [0, 0, 0, 60, 25, 15],\n",
       " [0, 0, 0, 60, 30, 10],\n",
       " [0, 0, 0, 60, 35, 5],\n",
       " [0, 0, 0, 60, 40, 0],\n",
       " [0, 0, 0, 70, 0, 30],\n",
       " [0, 0, 0, 70, 5, 25],\n",
       " [0, 0, 0, 70, 10, 20],\n",
       " [0, 0, 0, 70, 15, 15],\n",
       " [0, 0, 0, 70, 20, 10],\n",
       " [0, 0, 0, 70, 25, 5],\n",
       " [0, 0, 0, 70, 30, 0],\n",
       " [0, 0, 0, 80, 0, 20],\n",
       " [0, 0, 0, 80, 5, 15],\n",
       " [0, 0, 0, 80, 10, 10],\n",
       " [0, 0, 0, 80, 15, 5],\n",
       " [0, 0, 0, 80, 20, 0],\n",
       " [0, 0, 0, 90, 0, 10],\n",
       " [0, 0, 0, 90, 5, 5],\n",
       " [0, 0, 0, 90, 10, 0],\n",
       " [0, 0, 0, 100, 0, 0],\n",
       " [0, 0, 25, 0, 0, 75],\n",
       " [0, 0, 25, 0, 5, 70],\n",
       " [0, 0, 25, 0, 10, 65],\n",
       " [0, 0, 25, 0, 15, 60],\n",
       " [0, 0, 25, 0, 20, 55],\n",
       " [0, 0, 25, 0, 25, 50],\n",
       " [0, 0, 25, 0, 30, 45],\n",
       " [0, 0, 25, 0, 35, 40],\n",
       " [0, 0, 25, 0, 40, 35],\n",
       " [0, 0, 25, 0, 45, 30],\n",
       " [0, 0, 25, 0, 50, 25],\n",
       " [0, 0, 25, 0, 55, 20],\n",
       " [0, 0, 25, 0, 60, 15],\n",
       " [0, 0, 25, 0, 65, 10],\n",
       " [0, 0, 25, 0, 70, 5],\n",
       " [0, 0, 25, 0, 75, 0],\n",
       " [0, 0, 25, 10, 0, 65],\n",
       " [0, 0, 25, 10, 5, 60],\n",
       " [0, 0, 25, 10, 10, 55],\n",
       " [0, 0, 25, 10, 15, 50],\n",
       " [0, 0, 25, 10, 20, 45],\n",
       " [0, 0, 25, 10, 25, 40],\n",
       " [0, 0, 25, 10, 30, 35],\n",
       " [0, 0, 25, 10, 35, 30],\n",
       " [0, 0, 25, 10, 40, 25],\n",
       " [0, 0, 25, 10, 45, 20],\n",
       " [0, 0, 25, 10, 50, 15],\n",
       " [0, 0, 25, 10, 55, 10],\n",
       " [0, 0, 25, 10, 60, 5],\n",
       " [0, 0, 25, 10, 65, 0],\n",
       " [0, 0, 25, 20, 0, 55],\n",
       " [0, 0, 25, 20, 5, 50],\n",
       " [0, 0, 25, 20, 10, 45],\n",
       " [0, 0, 25, 20, 15, 40],\n",
       " [0, 0, 25, 20, 20, 35],\n",
       " [0, 0, 25, 20, 25, 30],\n",
       " [0, 0, 25, 20, 30, 25],\n",
       " [0, 0, 25, 20, 35, 20],\n",
       " [0, 0, 25, 20, 40, 15],\n",
       " [0, 0, 25, 20, 45, 10],\n",
       " [0, 0, 25, 20, 50, 5],\n",
       " [0, 0, 25, 20, 55, 0],\n",
       " [0, 0, 25, 30, 0, 45],\n",
       " [0, 0, 25, 30, 5, 40],\n",
       " [0, 0, 25, 30, 10, 35],\n",
       " [0, 0, 25, 30, 15, 30],\n",
       " [0, 0, 25, 30, 20, 25],\n",
       " [0, 0, 25, 30, 25, 20],\n",
       " [0, 0, 25, 30, 30, 15],\n",
       " [0, 0, 25, 30, 35, 10],\n",
       " [0, 0, 25, 30, 40, 5],\n",
       " [0, 0, 25, 30, 45, 0],\n",
       " [0, 0, 25, 40, 0, 35],\n",
       " [0, 0, 25, 40, 5, 30],\n",
       " [0, 0, 25, 40, 10, 25],\n",
       " [0, 0, 25, 40, 15, 20],\n",
       " [0, 0, 25, 40, 20, 15],\n",
       " [0, 0, 25, 40, 25, 10],\n",
       " [0, 0, 25, 40, 30, 5],\n",
       " [0, 0, 25, 40, 35, 0],\n",
       " [0, 0, 25, 50, 0, 25],\n",
       " [0, 0, 25, 50, 5, 20],\n",
       " [0, 0, 25, 50, 10, 15],\n",
       " [0, 0, 25, 50, 15, 10],\n",
       " [0, 0, 25, 50, 20, 5],\n",
       " [0, 0, 25, 50, 25, 0],\n",
       " [0, 0, 25, 60, 0, 15],\n",
       " [0, 0, 25, 60, 5, 10],\n",
       " [0, 0, 25, 60, 10, 5],\n",
       " [0, 0, 25, 60, 15, 0],\n",
       " [0, 0, 25, 70, 0, 5],\n",
       " [0, 0, 25, 70, 5, 0],\n",
       " [0, 0, 50, 0, 0, 50],\n",
       " [0, 0, 50, 0, 5, 45],\n",
       " [0, 0, 50, 0, 10, 40],\n",
       " [0, 0, 50, 0, 15, 35],\n",
       " [0, 0, 50, 0, 20, 30],\n",
       " [0, 0, 50, 0, 25, 25],\n",
       " [0, 0, 50, 0, 30, 20],\n",
       " [0, 0, 50, 0, 35, 15],\n",
       " [0, 0, 50, 0, 40, 10],\n",
       " [0, 0, 50, 0, 45, 5],\n",
       " [0, 0, 50, 0, 50, 0],\n",
       " [0, 0, 50, 10, 0, 40],\n",
       " [0, 0, 50, 10, 5, 35],\n",
       " [0, 0, 50, 10, 10, 30],\n",
       " [0, 0, 50, 10, 15, 25],\n",
       " [0, 0, 50, 10, 20, 20],\n",
       " [0, 0, 50, 10, 25, 15],\n",
       " [0, 0, 50, 10, 30, 10],\n",
       " [0, 0, 50, 10, 35, 5],\n",
       " [0, 0, 50, 10, 40, 0],\n",
       " [0, 0, 50, 20, 0, 30],\n",
       " [0, 0, 50, 20, 5, 25],\n",
       " [0, 0, 50, 20, 10, 20],\n",
       " [0, 0, 50, 20, 15, 15],\n",
       " [0, 0, 50, 20, 20, 10],\n",
       " [0, 0, 50, 20, 25, 5],\n",
       " [0, 0, 50, 20, 30, 0],\n",
       " [0, 0, 50, 30, 0, 20],\n",
       " [0, 0, 50, 30, 5, 15],\n",
       " [0, 0, 50, 30, 10, 10],\n",
       " [0, 0, 50, 30, 15, 5],\n",
       " [0, 0, 50, 30, 20, 0],\n",
       " [0, 0, 50, 40, 0, 10],\n",
       " [0, 0, 50, 40, 5, 5],\n",
       " [0, 0, 50, 40, 10, 0],\n",
       " [0, 0, 50, 50, 0, 0],\n",
       " [0, 0, 75, 0, 0, 25],\n",
       " [0, 0, 75, 0, 5, 20],\n",
       " [0, 0, 75, 0, 10, 15],\n",
       " [0, 0, 75, 0, 15, 10],\n",
       " [0, 0, 75, 0, 20, 5],\n",
       " [0, 0, 75, 0, 25, 0],\n",
       " [0, 0, 75, 10, 0, 15],\n",
       " [0, 0, 75, 10, 5, 10],\n",
       " [0, 0, 75, 10, 10, 5],\n",
       " [0, 0, 75, 10, 15, 0],\n",
       " [0, 0, 75, 20, 0, 5],\n",
       " [0, 0, 75, 20, 5, 0],\n",
       " [0, 0, 100, 0, 0, 0],\n",
       " [0, 50, 0, 0, 0, 50],\n",
       " [0, 50, 0, 0, 5, 45],\n",
       " [0, 50, 0, 0, 10, 40],\n",
       " [0, 50, 0, 0, 15, 35],\n",
       " [0, 50, 0, 0, 20, 30],\n",
       " [0, 50, 0, 0, 25, 25],\n",
       " [0, 50, 0, 0, 30, 20],\n",
       " [0, 50, 0, 0, 35, 15],\n",
       " [0, 50, 0, 0, 40, 10],\n",
       " [0, 50, 0, 0, 45, 5],\n",
       " [0, 50, 0, 0, 50, 0],\n",
       " [0, 50, 0, 10, 0, 40],\n",
       " [0, 50, 0, 10, 5, 35],\n",
       " [0, 50, 0, 10, 10, 30],\n",
       " [0, 50, 0, 10, 15, 25],\n",
       " [0, 50, 0, 10, 20, 20],\n",
       " [0, 50, 0, 10, 25, 15],\n",
       " [0, 50, 0, 10, 30, 10],\n",
       " [0, 50, 0, 10, 35, 5],\n",
       " [0, 50, 0, 10, 40, 0],\n",
       " [0, 50, 0, 20, 0, 30],\n",
       " [0, 50, 0, 20, 5, 25],\n",
       " [0, 50, 0, 20, 10, 20],\n",
       " [0, 50, 0, 20, 15, 15],\n",
       " [0, 50, 0, 20, 20, 10],\n",
       " [0, 50, 0, 20, 25, 5],\n",
       " [0, 50, 0, 20, 30, 0],\n",
       " [0, 50, 0, 30, 0, 20],\n",
       " [0, 50, 0, 30, 5, 15],\n",
       " [0, 50, 0, 30, 10, 10],\n",
       " [0, 50, 0, 30, 15, 5],\n",
       " [0, 50, 0, 30, 20, 0],\n",
       " [0, 50, 0, 40, 0, 10],\n",
       " [0, 50, 0, 40, 5, 5],\n",
       " [0, 50, 0, 40, 10, 0],\n",
       " [0, 50, 0, 50, 0, 0],\n",
       " [0, 50, 25, 0, 0, 25],\n",
       " [0, 50, 25, 0, 5, 20],\n",
       " [0, 50, 25, 0, 10, 15],\n",
       " [0, 50, 25, 0, 15, 10],\n",
       " [0, 50, 25, 0, 20, 5],\n",
       " [0, 50, 25, 0, 25, 0],\n",
       " [0, 50, 25, 10, 0, 15],\n",
       " [0, 50, 25, 10, 5, 10],\n",
       " [0, 50, 25, 10, 10, 5],\n",
       " [0, 50, 25, 10, 15, 0],\n",
       " [0, 50, 25, 20, 0, 5],\n",
       " [0, 50, 25, 20, 5, 0],\n",
       " [0, 50, 50, 0, 0, 0],\n",
       " [0, 100, 0, 0, 0, 0],\n",
       " [100, 0, 0, 0, 0, 0]]"
      ]
     },
     "execution_count": 19,
     "metadata": {},
     "output_type": "execute_result"
    }
   ],
   "source": [
    "combo_amounts"
   ]
  },
  {
   "cell_type": "code",
   "execution_count": 20,
   "metadata": {},
   "outputs": [
    {
     "data": {
      "text/plain": [
       "293"
      ]
     },
     "execution_count": 20,
     "metadata": {},
     "output_type": "execute_result"
    }
   ],
   "source": [
    "len(combo_amounts)"
   ]
  },
  {
   "cell_type": "markdown",
   "metadata": {},
   "source": [
    "### Lists"
   ]
  },
  {
   "cell_type": "code",
   "execution_count": 21,
   "metadata": {},
   "outputs": [],
   "source": [
    "nephews = ['John', 'Noah', 'Cameron']"
   ]
  },
  {
   "cell_type": "code",
   "execution_count": 22,
   "metadata": {},
   "outputs": [
    {
     "data": {
      "text/plain": [
       "['John', 'Noah', 'Cameron']"
      ]
     },
     "execution_count": 22,
     "metadata": {},
     "output_type": "execute_result"
    }
   ],
   "source": [
    "nephews"
   ]
  },
  {
   "cell_type": "code",
   "execution_count": 23,
   "metadata": {},
   "outputs": [
    {
     "data": {
      "text/plain": [
       "3"
      ]
     },
     "execution_count": 23,
     "metadata": {},
     "output_type": "execute_result"
    }
   ],
   "source": [
    "len(nephews)"
   ]
  },
  {
   "cell_type": "code",
   "execution_count": 24,
   "metadata": {},
   "outputs": [
    {
     "data": {
      "text/plain": [
       "'Cameron'"
      ]
     },
     "execution_count": 24,
     "metadata": {},
     "output_type": "execute_result"
    }
   ],
   "source": [
    "nephews[2]"
   ]
  },
  {
   "cell_type": "code",
   "execution_count": 25,
   "metadata": {},
   "outputs": [
    {
     "name": "stdout",
     "output_type": "stream",
     "text": [
      "Noah\n"
     ]
    }
   ],
   "source": [
    "print(nephews[1])"
   ]
  },
  {
   "cell_type": "code",
   "execution_count": 26,
   "metadata": {},
   "outputs": [
    {
     "data": {
      "text/plain": [
       "('Cameron', 'Noah', 'John')"
      ]
     },
     "execution_count": 26,
     "metadata": {},
     "output_type": "execute_result"
    }
   ],
   "source": [
    "nephews[-1], nephews[-2], nephews[-3]"
   ]
  },
  {
   "cell_type": "code",
   "execution_count": 27,
   "metadata": {},
   "outputs": [
    {
     "name": "stdout",
     "output_type": "stream",
     "text": [
      "John\n",
      "Noah\n",
      "Cameron\n"
     ]
    }
   ],
   "source": [
    "for i in range(3):\n",
    "    print(nephews[i])"
   ]
  },
  {
   "cell_type": "code",
   "execution_count": 28,
   "metadata": {},
   "outputs": [
    {
     "name": "stdout",
     "output_type": "stream",
     "text": [
      "NEPHEW: John Tracy\n",
      "NEPHEW: Noah Tracy\n",
      "NEPHEW: Cameron Tracy\n"
     ]
    }
   ],
   "source": [
    "for i in range(3):\n",
    "    print(f\"NEPHEW: {nephews[i]} Tracy\")"
   ]
  },
  {
   "cell_type": "code",
   "execution_count": 29,
   "metadata": {},
   "outputs": [
    {
     "data": {
      "text/plain": [
       "[1, [2, 3], 'alpha']"
      ]
     },
     "execution_count": 29,
     "metadata": {},
     "output_type": "execute_result"
    }
   ],
   "source": [
    "mix_it_up = [1, [2, 3], 'alpha']\n",
    "mix_it_up"
   ]
  },
  {
   "cell_type": "code",
   "execution_count": 30,
   "metadata": {},
   "outputs": [
    {
     "name": "stdout",
     "output_type": "stream",
     "text": [
      "John Tracy\n",
      "Noah Tracy\n",
      "Cameron Tracy\n"
     ]
    }
   ],
   "source": [
    "for i in range(3):\n",
    "    nephews[i] = nephews[i] + \" Tracy\"\n",
    "    print(nephews[i])"
   ]
  },
  {
   "cell_type": "code",
   "execution_count": 31,
   "metadata": {},
   "outputs": [
    {
     "data": {
      "text/plain": [
       "['John Tracy', 'Noah Tracy', 'Cameron Tracy']"
      ]
     },
     "execution_count": 31,
     "metadata": {},
     "output_type": "execute_result"
    }
   ],
   "source": [
    "nephews"
   ]
  },
  {
   "cell_type": "code",
   "execution_count": 32,
   "metadata": {},
   "outputs": [],
   "source": [
    "nephews.append('Alex Tracy')"
   ]
  },
  {
   "cell_type": "code",
   "execution_count": 33,
   "metadata": {},
   "outputs": [
    {
     "data": {
      "text/plain": [
       "['John Tracy', 'Noah Tracy', 'Cameron Tracy', 'Alex Tracy']"
      ]
     },
     "execution_count": 33,
     "metadata": {},
     "output_type": "execute_result"
    }
   ],
   "source": [
    "nephews"
   ]
  },
  {
   "cell_type": "code",
   "execution_count": 34,
   "metadata": {},
   "outputs": [],
   "source": [
    "nephews.append(['Chase Tracy', 'Mike Tracy'])"
   ]
  },
  {
   "cell_type": "code",
   "execution_count": 35,
   "metadata": {},
   "outputs": [
    {
     "data": {
      "text/plain": [
       "['John Tracy',\n",
       " 'Noah Tracy',\n",
       " 'Cameron Tracy',\n",
       " 'Alex Tracy',\n",
       " ['Chase Tracy', 'Mike Tracy']]"
      ]
     },
     "execution_count": 35,
     "metadata": {},
     "output_type": "execute_result"
    }
   ],
   "source": [
    "nephews"
   ]
  },
  {
   "cell_type": "code",
   "execution_count": 36,
   "metadata": {},
   "outputs": [],
   "source": [
    "nephews.extend(['Kyle Tracy', 'Boomer Tracy'])"
   ]
  },
  {
   "cell_type": "code",
   "execution_count": 37,
   "metadata": {},
   "outputs": [
    {
     "data": {
      "text/plain": [
       "['John Tracy',\n",
       " 'Noah Tracy',\n",
       " 'Cameron Tracy',\n",
       " 'Alex Tracy',\n",
       " ['Chase Tracy', 'Mike Tracy'],\n",
       " 'Kyle Tracy',\n",
       " 'Boomer Tracy']"
      ]
     },
     "execution_count": 37,
     "metadata": {},
     "output_type": "execute_result"
    }
   ],
   "source": [
    "nephews"
   ]
  },
  {
   "cell_type": "code",
   "execution_count": 38,
   "metadata": {},
   "outputs": [],
   "source": [
    "all_nephews = nephews + ['John III Tracy', 'Kidney Tracy']"
   ]
  },
  {
   "cell_type": "code",
   "execution_count": 39,
   "metadata": {},
   "outputs": [
    {
     "data": {
      "text/plain": [
       "['John Tracy',\n",
       " 'Noah Tracy',\n",
       " 'Cameron Tracy',\n",
       " 'Alex Tracy',\n",
       " ['Chase Tracy', 'Mike Tracy'],\n",
       " 'Kyle Tracy',\n",
       " 'Boomer Tracy',\n",
       " 'John III Tracy',\n",
       " 'Kidney Tracy']"
      ]
     },
     "execution_count": 39,
     "metadata": {},
     "output_type": "execute_result"
    }
   ],
   "source": [
    "all_nephews"
   ]
  },
  {
   "cell_type": "code",
   "execution_count": 40,
   "metadata": {},
   "outputs": [],
   "source": [
    "all_nephews.insert(1, 'Lima Bean Tracy')"
   ]
  },
  {
   "cell_type": "code",
   "execution_count": 41,
   "metadata": {},
   "outputs": [
    {
     "data": {
      "text/plain": [
       "['John Tracy',\n",
       " 'Lima Bean Tracy',\n",
       " 'Noah Tracy',\n",
       " 'Cameron Tracy',\n",
       " 'Alex Tracy',\n",
       " ['Chase Tracy', 'Mike Tracy'],\n",
       " 'Kyle Tracy',\n",
       " 'Boomer Tracy',\n",
       " 'John III Tracy',\n",
       " 'Kidney Tracy']"
      ]
     },
     "execution_count": 41,
     "metadata": {},
     "output_type": "execute_result"
    }
   ],
   "source": [
    "all_nephews"
   ]
  },
  {
   "cell_type": "code",
   "execution_count": 42,
   "metadata": {},
   "outputs": [],
   "source": [
    "del all_nephews[5]"
   ]
  },
  {
   "cell_type": "code",
   "execution_count": 43,
   "metadata": {},
   "outputs": [
    {
     "data": {
      "text/plain": [
       "['John Tracy',\n",
       " 'Lima Bean Tracy',\n",
       " 'Noah Tracy',\n",
       " 'Cameron Tracy',\n",
       " 'Alex Tracy',\n",
       " 'Kyle Tracy',\n",
       " 'Boomer Tracy',\n",
       " 'John III Tracy',\n",
       " 'Kidney Tracy']"
      ]
     },
     "execution_count": 43,
     "metadata": {},
     "output_type": "execute_result"
    }
   ],
   "source": [
    "all_nephews"
   ]
  },
  {
   "cell_type": "code",
   "execution_count": 44,
   "metadata": {},
   "outputs": [],
   "source": [
    "all_nephews.sort()"
   ]
  },
  {
   "cell_type": "code",
   "execution_count": 45,
   "metadata": {},
   "outputs": [
    {
     "data": {
      "text/plain": [
       "['Alex Tracy',\n",
       " 'Boomer Tracy',\n",
       " 'Cameron Tracy',\n",
       " 'John III Tracy',\n",
       " 'John Tracy',\n",
       " 'Kidney Tracy',\n",
       " 'Kyle Tracy',\n",
       " 'Lima Bean Tracy',\n",
       " 'Noah Tracy']"
      ]
     },
     "execution_count": 45,
     "metadata": {},
     "output_type": "execute_result"
    }
   ],
   "source": [
    "all_nephews"
   ]
  },
  {
   "cell_type": "code",
   "execution_count": 46,
   "metadata": {},
   "outputs": [
    {
     "data": {
      "text/plain": [
       "['Alex Tracy',\n",
       " 'Boomer Tracy',\n",
       " 'Cameron Tracy',\n",
       " 'John III Tracy',\n",
       " 'John Tracy',\n",
       " 'Kidney Tracy',\n",
       " 'Kyle Tracy',\n",
       " 'Lima Bean Tracy',\n",
       " 'Noah Tracy']"
      ]
     },
     "execution_count": 46,
     "metadata": {},
     "output_type": "execute_result"
    }
   ],
   "source": [
    "all_nephews"
   ]
  },
  {
   "cell_type": "code",
   "execution_count": 47,
   "metadata": {},
   "outputs": [],
   "source": [
    "reverse_nephews = sorted(all_nephews, reverse=True)"
   ]
  },
  {
   "cell_type": "code",
   "execution_count": 48,
   "metadata": {},
   "outputs": [
    {
     "data": {
      "text/plain": [
       "['Noah Tracy',\n",
       " 'Lima Bean Tracy',\n",
       " 'Kyle Tracy',\n",
       " 'Kidney Tracy',\n",
       " 'John Tracy',\n",
       " 'John III Tracy',\n",
       " 'Cameron Tracy',\n",
       " 'Boomer Tracy',\n",
       " 'Alex Tracy']"
      ]
     },
     "execution_count": 48,
     "metadata": {},
     "output_type": "execute_result"
    }
   ],
   "source": [
    "reverse_nephews"
   ]
  },
  {
   "cell_type": "markdown",
   "metadata": {},
   "source": [
    "### Slicing"
   ]
  },
  {
   "cell_type": "code",
   "execution_count": 49,
   "metadata": {},
   "outputs": [],
   "source": [
    "squares = [1, 4, 9, 16, 25, 36, 49]"
   ]
  },
  {
   "cell_type": "code",
   "execution_count": 50,
   "metadata": {},
   "outputs": [
    {
     "data": {
      "text/plain": [
       "[1, 4]"
      ]
     },
     "execution_count": 50,
     "metadata": {},
     "output_type": "execute_result"
    }
   ],
   "source": [
    "squares[0:2]"
   ]
  },
  {
   "cell_type": "code",
   "execution_count": 51,
   "metadata": {},
   "outputs": [
    {
     "data": {
      "text/plain": [
       "[1, 4, 9, 16]"
      ]
     },
     "execution_count": 51,
     "metadata": {},
     "output_type": "execute_result"
    }
   ],
   "source": [
    "squares[:4]"
   ]
  },
  {
   "cell_type": "code",
   "execution_count": 52,
   "metadata": {},
   "outputs": [
    {
     "data": {
      "text/plain": [
       "[25, 36, 49]"
      ]
     },
     "execution_count": 52,
     "metadata": {},
     "output_type": "execute_result"
    }
   ],
   "source": [
    "squares[4:]"
   ]
  },
  {
   "cell_type": "code",
   "execution_count": 53,
   "metadata": {},
   "outputs": [
    {
     "data": {
      "text/plain": [
       "[1, 4, 9, 16, 25, 36, 49]"
      ]
     },
     "execution_count": 53,
     "metadata": {},
     "output_type": "execute_result"
    }
   ],
   "source": [
    "squares[:]"
   ]
  },
  {
   "cell_type": "code",
   "execution_count": 54,
   "metadata": {},
   "outputs": [
    {
     "data": {
      "text/plain": [
       "[1, 9, 25, 49]"
      ]
     },
     "execution_count": 54,
     "metadata": {},
     "output_type": "execute_result"
    }
   ],
   "source": [
    "squares[0:7:2]"
   ]
  },
  {
   "cell_type": "code",
   "execution_count": 55,
   "metadata": {},
   "outputs": [
    {
     "data": {
      "text/plain": [
       "[25, 36]"
      ]
     },
     "execution_count": 55,
     "metadata": {},
     "output_type": "execute_result"
    }
   ],
   "source": [
    "squares[-3:-1]"
   ]
  },
  {
   "cell_type": "code",
   "execution_count": 56,
   "metadata": {},
   "outputs": [],
   "source": [
    "squares[2:4] = ['nine', 'sixteen']"
   ]
  },
  {
   "cell_type": "code",
   "execution_count": 57,
   "metadata": {},
   "outputs": [
    {
     "data": {
      "text/plain": [
       "[1, 4, 'nine', 'sixteen', 25, 36, 49]"
      ]
     },
     "execution_count": 57,
     "metadata": {},
     "output_type": "execute_result"
    }
   ],
   "source": [
    "squares"
   ]
  },
  {
   "cell_type": "code",
   "execution_count": 58,
   "metadata": {},
   "outputs": [],
   "source": [
    "del squares[4:6]"
   ]
  },
  {
   "cell_type": "code",
   "execution_count": 59,
   "metadata": {},
   "outputs": [
    {
     "data": {
      "text/plain": [
       "[1, 4, 'nine', 'sixteen', 49]"
      ]
     },
     "execution_count": 59,
     "metadata": {},
     "output_type": "execute_result"
    }
   ],
   "source": [
    "squares"
   ]
  },
  {
   "cell_type": "code",
   "execution_count": 60,
   "metadata": {},
   "outputs": [],
   "source": [
    "# tuples have parentheses instead of brackets\n",
    "integers = ('one', 'two', 'three', 'four')"
   ]
  },
  {
   "cell_type": "code",
   "execution_count": 61,
   "metadata": {},
   "outputs": [
    {
     "data": {
      "text/plain": [
       "('one', 'two', 'three', 'four')"
      ]
     },
     "execution_count": 61,
     "metadata": {},
     "output_type": "execute_result"
    }
   ],
   "source": [
    "integers"
   ]
  },
  {
   "cell_type": "code",
   "execution_count": 62,
   "metadata": {},
   "outputs": [
    {
     "data": {
      "text/plain": [
       "('three', 'four')"
      ]
     },
     "execution_count": 62,
     "metadata": {},
     "output_type": "execute_result"
    }
   ],
   "source": [
    "integers[-2:]"
   ]
  },
  {
   "cell_type": "code",
   "execution_count": 63,
   "metadata": {},
   "outputs": [
    {
     "data": {
      "text/plain": [
       "('two', 'four')"
      ]
     },
     "execution_count": 63,
     "metadata": {},
     "output_type": "execute_result"
    }
   ],
   "source": [
    "integers[-3], integers[-1]"
   ]
  },
  {
   "cell_type": "code",
   "execution_count": 64,
   "metadata": {},
   "outputs": [
    {
     "data": {
      "text/plain": [
       "(('one', 'two'), 'four')"
      ]
     },
     "execution_count": 64,
     "metadata": {},
     "output_type": "execute_result"
    }
   ],
   "source": [
    "integers[-4:-2], integers[-1]"
   ]
  },
  {
   "cell_type": "code",
   "execution_count": 65,
   "metadata": {},
   "outputs": [],
   "source": [
    "(a, b) = (1, 2)"
   ]
  },
  {
   "cell_type": "code",
   "execution_count": 66,
   "metadata": {},
   "outputs": [],
   "source": [
    "c, d = 3, 4"
   ]
  },
  {
   "cell_type": "code",
   "execution_count": 67,
   "metadata": {},
   "outputs": [
    {
     "name": "stdout",
     "output_type": "stream",
     "text": [
      "0 Alex Tracy\n",
      "1 Boomer Tracy\n",
      "2 Cameron Tracy\n",
      "3 John III Tracy\n",
      "4 John Tracy\n",
      "5 Kidney Tracy\n",
      "6 Kyle Tracy\n",
      "7 Lima Bean Tracy\n",
      "8 Noah Tracy\n"
     ]
    }
   ],
   "source": [
    "for i, nephew in enumerate(all_nephews):\n",
    "    print(i, nephew)"
   ]
  },
  {
   "cell_type": "code",
   "execution_count": 68,
   "metadata": {},
   "outputs": [],
   "source": [
    "def three_args(a, b, c):\n",
    "    print(a, b, c)"
   ]
  },
  {
   "cell_type": "code",
   "execution_count": 69,
   "metadata": {},
   "outputs": [],
   "source": [
    "my_args = (1, 2, 3)"
   ]
  },
  {
   "cell_type": "code",
   "execution_count": 70,
   "metadata": {},
   "outputs": [
    {
     "name": "stdout",
     "output_type": "stream",
     "text": [
      "1 2 3\n"
     ]
    }
   ],
   "source": [
    "three_args(*my_args)"
   ]
  },
  {
   "cell_type": "markdown",
   "metadata": {},
   "source": [
    "### Dictionaries and sets"
   ]
  },
  {
   "cell_type": "code",
   "execution_count": 71,
   "metadata": {},
   "outputs": [
    {
     "data": {
      "text/plain": [
       "{'United States': 'Washington DC', 'Minnesota': 'St Paul', 'Italy': 'Rome'}"
      ]
     },
     "execution_count": 71,
     "metadata": {},
     "output_type": "execute_result"
    }
   ],
   "source": [
    "capitals = {'United States': 'Washington DC',\n",
    "            'Minnesota': 'St Paul',\n",
    "            'Italy': 'Rome'}\n",
    "capitals"
   ]
  },
  {
   "cell_type": "code",
   "execution_count": 72,
   "metadata": {},
   "outputs": [
    {
     "data": {
      "text/plain": [
       "'Rome'"
      ]
     },
     "execution_count": 72,
     "metadata": {},
     "output_type": "execute_result"
    }
   ],
   "source": [
    "capitals['Italy']"
   ]
  },
  {
   "cell_type": "code",
   "execution_count": 73,
   "metadata": {},
   "outputs": [],
   "source": [
    "capitals['Spain'] = 'Madrid'"
   ]
  },
  {
   "cell_type": "code",
   "execution_count": 74,
   "metadata": {},
   "outputs": [
    {
     "data": {
      "text/plain": [
       "{'United States': 'Washington DC',\n",
       " 'Minnesota': 'St Paul',\n",
       " 'Italy': 'Rome',\n",
       " 'Spain': 'Madrid'}"
      ]
     },
     "execution_count": 74,
     "metadata": {},
     "output_type": "execute_result"
    }
   ],
   "source": [
    "capitals"
   ]
  },
  {
   "cell_type": "code",
   "execution_count": 75,
   "metadata": {},
   "outputs": [
    {
     "data": {
      "text/plain": [
       "(False, True, False)"
      ]
     },
     "execution_count": 75,
     "metadata": {},
     "output_type": "execute_result"
    }
   ],
   "source": [
    "'California' in capitals, 'Minnesota' in capitals, 'St Paul' in capitals"
   ]
  },
  {
   "cell_type": "code",
   "execution_count": 76,
   "metadata": {},
   "outputs": [],
   "source": [
    "more_caps = {'California': 'Sacramento', 'Germany': 'Berlin'}"
   ]
  },
  {
   "cell_type": "code",
   "execution_count": 77,
   "metadata": {},
   "outputs": [
    {
     "data": {
      "text/plain": [
       "{'California': 'Sacramento', 'Germany': 'Berlin'}"
      ]
     },
     "execution_count": 77,
     "metadata": {},
     "output_type": "execute_result"
    }
   ],
   "source": [
    "more_caps"
   ]
  },
  {
   "cell_type": "code",
   "execution_count": 78,
   "metadata": {},
   "outputs": [],
   "source": [
    "capitals.update(more_caps)"
   ]
  },
  {
   "cell_type": "code",
   "execution_count": 79,
   "metadata": {},
   "outputs": [
    {
     "data": {
      "text/plain": [
       "{'United States': 'Washington DC',\n",
       " 'Minnesota': 'St Paul',\n",
       " 'Italy': 'Rome',\n",
       " 'Spain': 'Madrid',\n",
       " 'California': 'Sacramento',\n",
       " 'Germany': 'Berlin'}"
      ]
     },
     "execution_count": 79,
     "metadata": {},
     "output_type": "execute_result"
    }
   ],
   "source": [
    "capitals"
   ]
  },
  {
   "cell_type": "code",
   "execution_count": 80,
   "metadata": {},
   "outputs": [],
   "source": [
    "del more_caps['California']"
   ]
  },
  {
   "cell_type": "code",
   "execution_count": 81,
   "metadata": {},
   "outputs": [
    {
     "data": {
      "text/plain": [
       "{'Germany': 'Berlin'}"
      ]
     },
     "execution_count": 81,
     "metadata": {},
     "output_type": "execute_result"
    }
   ],
   "source": [
    "more_caps"
   ]
  },
  {
   "cell_type": "code",
   "execution_count": 82,
   "metadata": {},
   "outputs": [
    {
     "data": {
      "text/plain": [
       "{'United States': 'Washington DC',\n",
       " 'Minnesota': 'St Paul',\n",
       " 'Italy': 'Rome',\n",
       " 'Spain': 'Madrid',\n",
       " 'California': 'Sacramento',\n",
       " 'Germany': 'Berlin'}"
      ]
     },
     "execution_count": 82,
     "metadata": {},
     "output_type": "execute_result"
    }
   ],
   "source": [
    "capitals"
   ]
  },
  {
   "cell_type": "code",
   "execution_count": 83,
   "metadata": {},
   "outputs": [],
   "source": [
    "capitals.update(more_caps)"
   ]
  },
  {
   "cell_type": "code",
   "execution_count": 84,
   "metadata": {},
   "outputs": [
    {
     "data": {
      "text/plain": [
       "{'United States': 'Washington DC',\n",
       " 'Minnesota': 'St Paul',\n",
       " 'Italy': 'Rome',\n",
       " 'Spain': 'Madrid',\n",
       " 'California': 'Sacramento',\n",
       " 'Germany': 'Berlin'}"
      ]
     },
     "execution_count": 84,
     "metadata": {},
     "output_type": "execute_result"
    }
   ],
   "source": [
    "capitals"
   ]
  },
  {
   "cell_type": "code",
   "execution_count": 85,
   "metadata": {},
   "outputs": [],
   "source": [
    "bdays = {(7, 15): 'Michele', (3, 14): 'Albert'}"
   ]
  },
  {
   "cell_type": "code",
   "execution_count": 86,
   "metadata": {},
   "outputs": [
    {
     "data": {
      "text/plain": [
       "{(7, 15): 'Michele', (3, 14): 'Albert'}"
      ]
     },
     "execution_count": 86,
     "metadata": {},
     "output_type": "execute_result"
    }
   ],
   "source": [
    "bdays"
   ]
  },
  {
   "cell_type": "code",
   "execution_count": 87,
   "metadata": {},
   "outputs": [
    {
     "data": {
      "text/plain": [
       "'Michele'"
      ]
     },
     "execution_count": 87,
     "metadata": {},
     "output_type": "execute_result"
    }
   ],
   "source": [
    "bdays[(7, 15)]"
   ]
  },
  {
   "cell_type": "code",
   "execution_count": 88,
   "metadata": {},
   "outputs": [
    {
     "data": {
      "text/plain": [
       "3392198205719894153"
      ]
     },
     "execution_count": 88,
     "metadata": {},
     "output_type": "execute_result"
    }
   ],
   "source": [
    "hash('Minnesota')"
   ]
  },
  {
   "cell_type": "code",
   "execution_count": 89,
   "metadata": {},
   "outputs": [
    {
     "data": {
      "text/plain": [
       "3713088127094153381"
      ]
     },
     "execution_count": 89,
     "metadata": {},
     "output_type": "execute_result"
    }
   ],
   "source": [
    "hash((7, 15))"
   ]
  },
  {
   "cell_type": "code",
   "execution_count": 90,
   "metadata": {},
   "outputs": [
    {
     "data": {
      "text/plain": [
       "{}"
      ]
     },
     "execution_count": 90,
     "metadata": {},
     "output_type": "execute_result"
    }
   ],
   "source": [
    "{}"
   ]
  },
  {
   "cell_type": "code",
   "execution_count": 91,
   "metadata": {},
   "outputs": [
    {
     "data": {
      "text/plain": [
       "0"
      ]
     },
     "execution_count": 91,
     "metadata": {},
     "output_type": "execute_result"
    }
   ],
   "source": [
    "len({})"
   ]
  },
  {
   "cell_type": "code",
   "execution_count": 92,
   "metadata": {},
   "outputs": [
    {
     "name": "stdout",
     "output_type": "stream",
     "text": [
      "United States\n",
      "Minnesota\n",
      "Italy\n",
      "Spain\n",
      "California\n",
      "Germany\n"
     ]
    }
   ],
   "source": [
    "for head in capitals:\n",
    "    print(head)"
   ]
  },
  {
   "cell_type": "code",
   "execution_count": 93,
   "metadata": {},
   "outputs": [
    {
     "name": "stdout",
     "output_type": "stream",
     "text": [
      "United States\n",
      "Minnesota\n",
      "Italy\n",
      "Spain\n",
      "California\n",
      "Germany\n"
     ]
    }
   ],
   "source": [
    "for head in capitals.keys():\n",
    "    print(head)"
   ]
  },
  {
   "cell_type": "code",
   "execution_count": 94,
   "metadata": {},
   "outputs": [
    {
     "name": "stdout",
     "output_type": "stream",
     "text": [
      "Washington DC\n",
      "St Paul\n",
      "Rome\n",
      "Madrid\n",
      "Sacramento\n",
      "Berlin\n"
     ]
    }
   ],
   "source": [
    "for capital in capitals.values():\n",
    "    print(capital)"
   ]
  },
  {
   "cell_type": "code",
   "execution_count": 95,
   "metadata": {},
   "outputs": [
    {
     "name": "stdout",
     "output_type": "stream",
     "text": [
      "United States, Washington DC\n",
      "Minnesota, St Paul\n",
      "Italy, Rome\n",
      "Spain, Madrid\n",
      "California, Sacramento\n",
      "Germany, Berlin\n"
     ]
    }
   ],
   "source": [
    "for head, capital in capitals.items():\n",
    "    print(head + \", \" + capital)"
   ]
  },
  {
   "cell_type": "code",
   "execution_count": 96,
   "metadata": {},
   "outputs": [],
   "source": [
    "# Sets\n",
    "continents = {'Africa', 'Asia', 'Europe', 'America', 'Africa'}"
   ]
  },
  {
   "cell_type": "code",
   "execution_count": 97,
   "metadata": {},
   "outputs": [
    {
     "data": {
      "text/plain": [
       "{'Africa', 'America', 'Asia', 'Europe'}"
      ]
     },
     "execution_count": 97,
     "metadata": {},
     "output_type": "execute_result"
    }
   ],
   "source": [
    "continents"
   ]
  },
  {
   "cell_type": "code",
   "execution_count": 98,
   "metadata": {},
   "outputs": [
    {
     "data": {
      "text/plain": [
       "True"
      ]
     },
     "execution_count": 98,
     "metadata": {},
     "output_type": "execute_result"
    }
   ],
   "source": [
    "'America' in continents"
   ]
  },
  {
   "cell_type": "code",
   "execution_count": 99,
   "metadata": {},
   "outputs": [
    {
     "data": {
      "text/plain": [
       "False"
      ]
     },
     "execution_count": 99,
     "metadata": {},
     "output_type": "execute_result"
    }
   ],
   "source": [
    "'Coffee' in continents"
   ]
  },
  {
   "cell_type": "code",
   "execution_count": 100,
   "metadata": {},
   "outputs": [],
   "source": [
    "continents.add('Antartica')"
   ]
  },
  {
   "cell_type": "code",
   "execution_count": 101,
   "metadata": {},
   "outputs": [
    {
     "data": {
      "text/plain": [
       "{'Africa', 'America', 'Antartica', 'Asia', 'Europe'}"
      ]
     },
     "execution_count": 101,
     "metadata": {},
     "output_type": "execute_result"
    }
   ],
   "source": [
    "continents"
   ]
  },
  {
   "cell_type": "code",
   "execution_count": 102,
   "metadata": {},
   "outputs": [],
   "source": [
    "continents.remove('Asia')"
   ]
  },
  {
   "cell_type": "code",
   "execution_count": 103,
   "metadata": {},
   "outputs": [
    {
     "data": {
      "text/plain": [
       "{'Africa', 'America', 'Antartica', 'Europe'}"
      ]
     },
     "execution_count": 103,
     "metadata": {},
     "output_type": "execute_result"
    }
   ],
   "source": [
    "continents"
   ]
  },
  {
   "cell_type": "code",
   "execution_count": 104,
   "metadata": {},
   "outputs": [
    {
     "name": "stdout",
     "output_type": "stream",
     "text": [
      "Continent: America\n",
      "Continent: Europe\n",
      "Continent: Antartica\n",
      "Continent: Africa\n"
     ]
    }
   ],
   "source": [
    "for c in continents:\n",
    "    print(f\"Continent: {c}\")"
   ]
  },
  {
   "cell_type": "markdown",
   "metadata": {},
   "source": [
    "### Comprehensions"
   ]
  },
  {
   "cell_type": "code",
   "execution_count": 105,
   "metadata": {},
   "outputs": [],
   "source": [
    "square = []\n",
    "for i in range(1, 11):\n",
    "    square.append(i**2)"
   ]
  },
  {
   "cell_type": "code",
   "execution_count": 106,
   "metadata": {},
   "outputs": [
    {
     "data": {
      "text/plain": [
       "[1, 4, 9, 16, 25, 36, 49, 64, 81, 100]"
      ]
     },
     "execution_count": 106,
     "metadata": {},
     "output_type": "execute_result"
    }
   ],
   "source": [
    "square"
   ]
  },
  {
   "cell_type": "code",
   "execution_count": 107,
   "metadata": {},
   "outputs": [],
   "source": [
    "square = [i**2 for i in range(1, 11)]"
   ]
  },
  {
   "cell_type": "code",
   "execution_count": 108,
   "metadata": {},
   "outputs": [
    {
     "data": {
      "text/plain": [
       "[1, 4, 9, 16, 25, 36, 49, 64, 81, 100]"
      ]
     },
     "execution_count": 108,
     "metadata": {},
     "output_type": "execute_result"
    }
   ],
   "source": [
    "square"
   ]
  },
  {
   "cell_type": "code",
   "execution_count": 109,
   "metadata": {},
   "outputs": [],
   "source": [
    "square_by_four = [i**2 for i in range(1, 11) if i**2 % 4 == 0]"
   ]
  },
  {
   "cell_type": "code",
   "execution_count": 110,
   "metadata": {},
   "outputs": [
    {
     "data": {
      "text/plain": [
       "[4, 16, 36, 64, 100]"
      ]
     },
     "execution_count": 110,
     "metadata": {},
     "output_type": "execute_result"
    }
   ],
   "source": [
    "square_by_four"
   ]
  },
  {
   "cell_type": "code",
   "execution_count": 111,
   "metadata": {},
   "outputs": [],
   "source": [
    "squares_dict = {i: i**2 for i in range(1, 11)}"
   ]
  },
  {
   "cell_type": "code",
   "execution_count": 112,
   "metadata": {},
   "outputs": [
    {
     "data": {
      "text/plain": [
       "{1: 1, 2: 4, 3: 9, 4: 16, 5: 25, 6: 36, 7: 49, 8: 64, 9: 81, 10: 100}"
      ]
     },
     "execution_count": 112,
     "metadata": {},
     "output_type": "execute_result"
    }
   ],
   "source": [
    "squares_dict"
   ]
  },
  {
   "cell_type": "code",
   "execution_count": 113,
   "metadata": {},
   "outputs": [],
   "source": [
    "caps_by_country = {'US': \"DC\", 'France': 'Paris', 'Italy': 'Rome'}"
   ]
  },
  {
   "cell_type": "code",
   "execution_count": 114,
   "metadata": {},
   "outputs": [
    {
     "data": {
      "text/plain": [
       "{'US': 'DC', 'France': 'Paris', 'Italy': 'Rome'}"
      ]
     },
     "execution_count": 114,
     "metadata": {},
     "output_type": "execute_result"
    }
   ],
   "source": [
    "caps_by_country"
   ]
  },
  {
   "cell_type": "code",
   "execution_count": 115,
   "metadata": {},
   "outputs": [],
   "source": [
    "countries_by_cap = {capital: country for country, capital in caps_by_country.items()}"
   ]
  },
  {
   "cell_type": "code",
   "execution_count": 116,
   "metadata": {},
   "outputs": [
    {
     "data": {
      "text/plain": [
       "{'DC': 'US', 'Paris': 'France', 'Rome': 'Italy'}"
      ]
     },
     "execution_count": 116,
     "metadata": {},
     "output_type": "execute_result"
    }
   ],
   "source": [
    "countries_by_cap"
   ]
  },
  {
   "cell_type": "code",
   "execution_count": 117,
   "metadata": {},
   "outputs": [
    {
     "data": {
      "text/plain": [
       "385"
      ]
     },
     "execution_count": 117,
     "metadata": {},
     "output_type": "execute_result"
    }
   ],
   "source": [
    "sum(i**2 for i in range(1, 11))"
   ]
  },
  {
   "cell_type": "code",
   "execution_count": 118,
   "metadata": {},
   "outputs": [],
   "source": [
    "counting = []\n",
    "\n",
    "for i in range(1, 11):\n",
    "    for j in range(1, i + 1):\n",
    "        counting.append(j)"
   ]
  },
  {
   "cell_type": "code",
   "execution_count": 119,
   "metadata": {},
   "outputs": [
    {
     "name": "stdout",
     "output_type": "stream",
     "text": [
      "[1, 1, 2, 1, 2, 3, 1, 2, 3, 4, 1, 2, 3, 4, 5, 1, 2, 3, 4, 5, 6, 1, 2, 3, 4, 5, 6, 7, 1, 2, 3, 4, 5, 6, 7, 8, 1, 2, 3, 4, 5, 6, 7, 8, 9, 1, 2, 3, 4, 5, 6, 7, 8, 9, 10]\n"
     ]
    }
   ],
   "source": [
    "print(counting)"
   ]
  },
  {
   "cell_type": "code",
   "execution_count": 120,
   "metadata": {},
   "outputs": [
    {
     "name": "stdout",
     "output_type": "stream",
     "text": [
      "1\n",
      "2\n",
      "3\n"
     ]
    }
   ],
   "source": [
    "for j in range(1, 4):\n",
    "    print(j)"
   ]
  },
  {
   "cell_type": "code",
   "execution_count": 121,
   "metadata": {},
   "outputs": [],
   "source": [
    "counting = [j for i in range(1, 11) for j in range(1, i + 1)]"
   ]
  },
  {
   "cell_type": "code",
   "execution_count": 122,
   "metadata": {},
   "outputs": [
    {
     "name": "stdout",
     "output_type": "stream",
     "text": [
      "[1, 1, 2, 1, 2, 3, 1, 2, 3, 4, 1, 2, 3, 4, 5, 1, 2, 3, 4, 5, 6, 1, 2, 3, 4, 5, 6, 7, 1, 2, 3, 4, 5, 6, 7, 8, 1, 2, 3, 4, 5, 6, 7, 8, 9, 1, 2, 3, 4, 5, 6, 7, 8, 9, 10]\n"
     ]
    }
   ],
   "source": [
    "print(counting)"
   ]
  },
  {
   "cell_type": "markdown",
   "metadata": {},
   "source": [
    "### Advanced Containers"
   ]
  },
  {
   "cell_type": "code",
   "execution_count": 123,
   "metadata": {},
   "outputs": [],
   "source": [
    "people = [('Vallie', 'Tracy', 'Dec 1'),\n",
    "          ('Jean', 'Tracy', 'October 4'),\n",
    "          ('Kyle', 'Buck', 'June 7'),\n",
    "          ('Michel', 'Commish Raimondi', 'Dec 1')]"
   ]
  },
  {
   "cell_type": "code",
   "execution_count": 124,
   "metadata": {},
   "outputs": [
    {
     "data": {
      "text/plain": [
       "('Vallie', 'Tracy', 'Dec 1')"
      ]
     },
     "execution_count": 124,
     "metadata": {},
     "output_type": "execute_result"
    }
   ],
   "source": [
    "people[0]"
   ]
  },
  {
   "cell_type": "code",
   "execution_count": 125,
   "metadata": {},
   "outputs": [
    {
     "data": {
      "text/plain": [
       "'Vallie'"
      ]
     },
     "execution_count": 125,
     "metadata": {},
     "output_type": "execute_result"
    }
   ],
   "source": [
    "people[0][0]"
   ]
  },
  {
   "cell_type": "code",
   "execution_count": 126,
   "metadata": {},
   "outputs": [
    {
     "name": "stdout",
     "output_type": "stream",
     "text": [
      "Dec 1\n"
     ]
    }
   ],
   "source": [
    "dec_1 = people[3][2]\n",
    "print(dec_1)"
   ]
  },
  {
   "cell_type": "code",
   "execution_count": 127,
   "metadata": {},
   "outputs": [
    {
     "data": {
      "text/plain": [
       "[('Vallie', 'Tracy', 'Dec 1'), ('Michel', 'Commish Raimondi', 'Dec 1')]"
      ]
     },
     "execution_count": 127,
     "metadata": {},
     "output_type": "execute_result"
    }
   ],
   "source": [
    "[person for person in people if person[2] == 'Dec 1']"
   ]
  },
  {
   "cell_type": "code",
   "execution_count": 128,
   "metadata": {},
   "outputs": [],
   "source": [
    "type = collections.namedtuple('human', ['firstname', 'lastname', 'birthday'])"
   ]
  },
  {
   "cell_type": "code",
   "execution_count": 129,
   "metadata": {},
   "outputs": [
    {
     "data": {
      "text/plain": [
       "human(firstname='Vallie', lastname='Tracy', birthday='May 25')"
      ]
     },
     "execution_count": 129,
     "metadata": {},
     "output_type": "execute_result"
    }
   ],
   "source": [
    "vallie = type('Vallie', 'Tracy', 'May 25')\n",
    "vallie"
   ]
  },
  {
   "cell_type": "code",
   "execution_count": 130,
   "metadata": {},
   "outputs": [
    {
     "data": {
      "text/plain": [
       "human(firstname='Vallie', lastname='Tracy', birthday='May 25')"
      ]
     },
     "execution_count": 130,
     "metadata": {},
     "output_type": "execute_result"
    }
   ],
   "source": [
    "vallie = type(lastname=\"Tracy\", firstname=\"Vallie\", birthday=\"May 25\")\n",
    "vallie"
   ]
  },
  {
   "cell_type": "code",
   "execution_count": 131,
   "metadata": {},
   "outputs": [
    {
     "data": {
      "text/plain": [
       "('Vallie', 'Tracy', 'May 25')"
      ]
     },
     "execution_count": 131,
     "metadata": {},
     "output_type": "execute_result"
    }
   ],
   "source": [
    "vallie[0], vallie[1], vallie[2]"
   ]
  },
  {
   "cell_type": "code",
   "execution_count": 132,
   "metadata": {},
   "outputs": [
    {
     "data": {
      "text/plain": [
       "('Vallie', 'Tracy', 'May 25')"
      ]
     },
     "execution_count": 132,
     "metadata": {},
     "output_type": "execute_result"
    }
   ],
   "source": [
    "vallie.firstname, vallie.lastname, vallie.birthday"
   ]
  },
  {
   "cell_type": "code",
   "execution_count": 133,
   "metadata": {},
   "outputs": [],
   "source": [
    "#type(people[0])"
   ]
  },
  {
   "cell_type": "code",
   "execution_count": 134,
   "metadata": {},
   "outputs": [
    {
     "data": {
      "text/plain": [
       "human(firstname='Vallie', lastname='Tracy', birthday='Dec 1')"
      ]
     },
     "execution_count": 134,
     "metadata": {},
     "output_type": "execute_result"
    }
   ],
   "source": [
    "# use '*' to unpack the tuple\n",
    "type(*people[0])"
   ]
  },
  {
   "cell_type": "code",
   "execution_count": 135,
   "metadata": {},
   "outputs": [],
   "source": [
    "named_people = [type(*person) for person in people]"
   ]
  },
  {
   "cell_type": "code",
   "execution_count": 136,
   "metadata": {},
   "outputs": [
    {
     "data": {
      "text/plain": [
       "[human(firstname='Vallie', lastname='Tracy', birthday='Dec 1'),\n",
       " human(firstname='Jean', lastname='Tracy', birthday='October 4'),\n",
       " human(firstname='Kyle', lastname='Buck', birthday='June 7'),\n",
       " human(firstname='Michel', lastname='Commish Raimondi', birthday='Dec 1')]"
      ]
     },
     "execution_count": 136,
     "metadata": {},
     "output_type": "execute_result"
    }
   ],
   "source": [
    "named_people"
   ]
  },
  {
   "cell_type": "code",
   "execution_count": 137,
   "metadata": {},
   "outputs": [
    {
     "data": {
      "text/plain": [
       "[human(firstname='Jean', lastname='Tracy', birthday='October 4')]"
      ]
     },
     "execution_count": 137,
     "metadata": {},
     "output_type": "execute_result"
    }
   ],
   "source": [
    "[person for person in named_people if person.birthday == 'October 4']"
   ]
  },
  {
   "cell_type": "code",
   "execution_count": 138,
   "metadata": {},
   "outputs": [],
   "source": [
    "#from dateclasses import dateclass"
   ]
  },
  {
   "cell_type": "markdown",
   "metadata": {},
   "source": [
    "### Anagrams"
   ]
  },
  {
   "cell_type": "code",
   "execution_count": 149,
   "metadata": {},
   "outputs": [],
   "source": [
    "words = []\n",
    "for line in open('words.txt', 'r'):\n",
    "    words.append(line)"
   ]
  },
  {
   "cell_type": "code",
   "execution_count": 150,
   "metadata": {},
   "outputs": [
    {
     "data": {
      "text/plain": [
       "235886"
      ]
     },
     "execution_count": 150,
     "metadata": {},
     "output_type": "execute_result"
    }
   ],
   "source": [
    "len(words)"
   ]
  },
  {
   "cell_type": "code",
   "execution_count": 151,
   "metadata": {},
   "outputs": [
    {
     "data": {
      "text/plain": [
       "['A\\n',\n",
       " 'a\\n',\n",
       " 'aa\\n',\n",
       " 'aal\\n',\n",
       " 'aalii\\n',\n",
       " 'aam\\n',\n",
       " 'Aani\\n',\n",
       " 'aardvark\\n',\n",
       " 'aardwolf\\n',\n",
       " 'Aaron\\n']"
      ]
     },
     "execution_count": 151,
     "metadata": {},
     "output_type": "execute_result"
    }
   ],
   "source": [
    "words[:10]"
   ]
  },
  {
   "cell_type": "code",
   "execution_count": 152,
   "metadata": {},
   "outputs": [
    {
     "data": {
      "text/plain": [
       "'Aaron'"
      ]
     },
     "execution_count": 152,
     "metadata": {},
     "output_type": "execute_result"
    }
   ],
   "source": [
    "'Aaron\\n'.strip()"
   ]
  },
  {
   "cell_type": "code",
   "execution_count": 153,
   "metadata": {},
   "outputs": [
    {
     "data": {
      "text/plain": [
       "'aaron'"
      ]
     },
     "execution_count": 153,
     "metadata": {},
     "output_type": "execute_result"
    }
   ],
   "source": [
    "'Aaron\\n'.strip().lower()"
   ]
  },
  {
   "cell_type": "code",
   "execution_count": 154,
   "metadata": {},
   "outputs": [],
   "source": [
    "words = []\n",
    "for line in open('words.txt', 'r'):\n",
    "    words.append(line.strip().lower())"
   ]
  },
  {
   "cell_type": "code",
   "execution_count": 155,
   "metadata": {},
   "outputs": [
    {
     "data": {
      "text/plain": [
       "['a',\n",
       " 'a',\n",
       " 'aa',\n",
       " 'aal',\n",
       " 'aalii',\n",
       " 'aam',\n",
       " 'aani',\n",
       " 'aardvark',\n",
       " 'aardwolf',\n",
       " 'aaron']"
      ]
     },
     "execution_count": 155,
     "metadata": {},
     "output_type": "execute_result"
    }
   ],
   "source": [
    "words[:10]"
   ]
  },
  {
   "cell_type": "code",
   "execution_count": 156,
   "metadata": {},
   "outputs": [],
   "source": [
    "words = set()\n",
    "for line in open('words.txt', 'r'):\n",
    "    words.add(line.strip().lower())"
   ]
  },
  {
   "cell_type": "code",
   "execution_count": 157,
   "metadata": {},
   "outputs": [],
   "source": [
    "words = {line.strip().lower() for line in open('words.txt', 'r')}"
   ]
  },
  {
   "cell_type": "code",
   "execution_count": 158,
   "metadata": {},
   "outputs": [
    {
     "data": {
      "text/plain": [
       "{'glandulous',\n",
       " 'aquilaria',\n",
       " 'exopterygotic',\n",
       " 'lodged',\n",
       " 'bucculatrix',\n",
       " 'deltoidal',\n",
       " 'taxibus',\n",
       " 'sporulate',\n",
       " 'cacochymia',\n",
       " 'radiant',\n",
       " 'astropecten',\n",
       " 'scrotofemoral',\n",
       " 'mismarry',\n",
       " 'thiobismuthite',\n",
       " 'diphycercal',\n",
       " 'overpart',\n",
       " 'questionableness',\n",
       " 'episcope',\n",
       " 'whiteblow',\n",
       " 'contra',\n",
       " 'spiceberry',\n",
       " 'cep',\n",
       " 'eguttulate',\n",
       " 'proletarianism',\n",
       " 'rattlesome',\n",
       " 'infrabasal',\n",
       " 'superabound',\n",
       " 'backbreaker',\n",
       " 'enregister',\n",
       " 'plenshing',\n",
       " 'immenseness',\n",
       " 'brahmsite',\n",
       " 'handmade',\n",
       " 'antibibliolatry',\n",
       " 'roborative',\n",
       " 'transmundane',\n",
       " 'emanatory',\n",
       " 'salubrious',\n",
       " 'insensible',\n",
       " 'blarneyer',\n",
       " 'hydrorrhoea',\n",
       " 'bourgeoise',\n",
       " 'proverbialism',\n",
       " 'caraunda',\n",
       " 'artlike',\n",
       " 'pentagamist',\n",
       " 'implunge',\n",
       " 'dasystephana',\n",
       " 'overcriticize',\n",
       " 'electropuncturation',\n",
       " 'fluorenyl',\n",
       " 'wan',\n",
       " 'anaschistic',\n",
       " 'jubilus',\n",
       " 'awaken',\n",
       " 'blistery',\n",
       " 'overfavorable',\n",
       " 'sejunctive',\n",
       " 'chondrocyte',\n",
       " 'pictural',\n",
       " 'beemaster',\n",
       " 'exogyra',\n",
       " 'micropoicilitic',\n",
       " 'amiray',\n",
       " 'blunger',\n",
       " 'prill',\n",
       " 'pseudobranchial',\n",
       " 'pneumological',\n",
       " 'theromorphological',\n",
       " 'animous',\n",
       " 'chaui',\n",
       " 'secant',\n",
       " 'zarathustrian',\n",
       " 'favored',\n",
       " 'presupposition',\n",
       " 'washbasket',\n",
       " 'episcopalianism',\n",
       " 'talmudical',\n",
       " 'miliola',\n",
       " 'anacamptic',\n",
       " 'creditableness',\n",
       " 'separator',\n",
       " 'belltail',\n",
       " 'strifeless',\n",
       " 'bugbeardom',\n",
       " 'dihydrotachysterol',\n",
       " 'loch',\n",
       " 'fustiness',\n",
       " 'hypererethism',\n",
       " 'governessy',\n",
       " 'undercharge',\n",
       " 'astonishingly',\n",
       " 'orthorrhapha',\n",
       " 'periphrase',\n",
       " 'eveque',\n",
       " 'aphengescope',\n",
       " 'borehole',\n",
       " 'tic',\n",
       " 'insense',\n",
       " 'superservice',\n",
       " 'sheenless',\n",
       " 'counterformula',\n",
       " 'cetyl',\n",
       " 'nonabsentation',\n",
       " 'gibbsite',\n",
       " 'ungrimed',\n",
       " 'soliloquy',\n",
       " 'permeant',\n",
       " 'acetamidine',\n",
       " 'shod',\n",
       " 'unfatten',\n",
       " 'melissyl',\n",
       " 'bullishness',\n",
       " 'unperformed',\n",
       " 'urbicolous',\n",
       " 'hydraulically',\n",
       " 'acarapis',\n",
       " 'phosphocreatine',\n",
       " 'stratal',\n",
       " 'unpassably',\n",
       " 'overgaze',\n",
       " 'breviger',\n",
       " 'prorata',\n",
       " 'indiscriminateness',\n",
       " 'babylonic',\n",
       " 'caprelline',\n",
       " 'lionization',\n",
       " 'phymatosis',\n",
       " 'pinguidity',\n",
       " 'tachymetry',\n",
       " 'bygo',\n",
       " 'monsignor',\n",
       " 'doubleheartedness',\n",
       " 'undevious',\n",
       " 'diadochian',\n",
       " 'antenatalitial',\n",
       " 'snooze',\n",
       " 'preshortage',\n",
       " 'precharge',\n",
       " 'unloaning',\n",
       " 'mildewer',\n",
       " 'bokom',\n",
       " 'carpogonial',\n",
       " 'maphrian',\n",
       " 'unirritant',\n",
       " 'analav',\n",
       " 'otography',\n",
       " 'prefatory',\n",
       " 'wrongousness',\n",
       " 'overcontract',\n",
       " 'unbeneficed',\n",
       " 'intrinsically',\n",
       " 'snowfowl',\n",
       " 'rasper',\n",
       " 'anopluriform',\n",
       " 'diabolically',\n",
       " 'miterer',\n",
       " 'mutilla',\n",
       " 'objurgatrix',\n",
       " 'dorsocaudal',\n",
       " 'transappalachian',\n",
       " 'scalping',\n",
       " 'overdrink',\n",
       " 'naviculaeform',\n",
       " 'piculule',\n",
       " 'yaply',\n",
       " 'linolenin',\n",
       " 'priapulida',\n",
       " 'raunge',\n",
       " 'alterate',\n",
       " 'costopleural',\n",
       " 'relievedly',\n",
       " 'unbailableness',\n",
       " 'smilacaceae',\n",
       " 'peroratory',\n",
       " 'clarinettist',\n",
       " 'nibby',\n",
       " 'presplenomegalic',\n",
       " 'radish',\n",
       " 'relieved',\n",
       " 'kingmaker',\n",
       " 'elucidator',\n",
       " 'freewheeling',\n",
       " 'thy',\n",
       " 'heartbroken',\n",
       " 'assamites',\n",
       " 'captivating',\n",
       " 'cacozyme',\n",
       " 'imminution',\n",
       " 'nakedize',\n",
       " 'stromatiform',\n",
       " 'fervidor',\n",
       " 'kisswise',\n",
       " 'antaeus',\n",
       " 'nacrine',\n",
       " 'violinette',\n",
       " 'overchant',\n",
       " 'acupress',\n",
       " 'umaua',\n",
       " 'unruled',\n",
       " 'getae',\n",
       " 'sporangiospore',\n",
       " 'inadjustable',\n",
       " 'interlobar',\n",
       " 'institutionalism',\n",
       " 'aerodyne',\n",
       " 'droddum',\n",
       " 'hyperthermic',\n",
       " 'intervascular',\n",
       " 'zoogony',\n",
       " 'outluster',\n",
       " 'nondiabetic',\n",
       " 'centerpiece',\n",
       " 'crotaphion',\n",
       " 'polyplegia',\n",
       " 'unpronounce',\n",
       " 'crowd',\n",
       " 'assyntite',\n",
       " 'polynucleolar',\n",
       " 'squarrosely',\n",
       " 'bumming',\n",
       " 'closen',\n",
       " 'denizen',\n",
       " 'underacting',\n",
       " 'undrawn',\n",
       " 'pleustonic',\n",
       " 'enchylema',\n",
       " 'evident',\n",
       " 'bushlike',\n",
       " 'nibbler',\n",
       " 'superaccommodating',\n",
       " 'achroodextrin',\n",
       " 'mischanceful',\n",
       " 'penetrativity',\n",
       " 'sugarelly',\n",
       " 'metabiosis',\n",
       " 'shoebinding',\n",
       " 'diagnosis',\n",
       " 'jurally',\n",
       " 'wolve',\n",
       " 'vidya',\n",
       " 'litho',\n",
       " 'valanced',\n",
       " 'transpalmar',\n",
       " 'brigid',\n",
       " 'woadman',\n",
       " 'icterode',\n",
       " 'precorrectness',\n",
       " 'agelacrinites',\n",
       " 'drepanium',\n",
       " 'procommittee',\n",
       " 'revigorate',\n",
       " 'unantiquated',\n",
       " 'unclemently',\n",
       " 'acroamatics',\n",
       " 'dissertate',\n",
       " 'vastitude',\n",
       " 'mastopexy',\n",
       " 'febrifacient',\n",
       " 'haggishness',\n",
       " 'befog',\n",
       " 'gemel',\n",
       " 'innominable',\n",
       " 'choline',\n",
       " 'superimply',\n",
       " 'trigonocerous',\n",
       " 'babylonize',\n",
       " 'scamperer',\n",
       " 'truckler',\n",
       " 'pogy',\n",
       " 'backlet',\n",
       " 'recoverable',\n",
       " 'musculodermic',\n",
       " 'tagish',\n",
       " 'jarra',\n",
       " 'shank',\n",
       " 'discriminatively',\n",
       " 'admonishment',\n",
       " 'begrace',\n",
       " 'interradial',\n",
       " 'parcellize',\n",
       " 'rigling',\n",
       " 'inebriation',\n",
       " 'howdy',\n",
       " 'destrier',\n",
       " 'befoul',\n",
       " 'damnous',\n",
       " 'metabiological',\n",
       " 'prosonomasia',\n",
       " 'aaron',\n",
       " 'pirny',\n",
       " 'feoffeeship',\n",
       " 'gorillian',\n",
       " 'khanate',\n",
       " 'nightly',\n",
       " 'deliciousness',\n",
       " 'repercolation',\n",
       " 'godlikeness',\n",
       " 'alumna',\n",
       " 'barlafummil',\n",
       " 'reproof',\n",
       " 'unrigorous',\n",
       " 'stereogram',\n",
       " 'speedboat',\n",
       " 'devotedness',\n",
       " 'lexicographically',\n",
       " 'unapprehended',\n",
       " 'antiprelatic',\n",
       " 'sericulturist',\n",
       " 'macrauchene',\n",
       " 'oflete',\n",
       " 'druxy',\n",
       " 'pacemaker',\n",
       " 'guarantor',\n",
       " 'farinaceous',\n",
       " 'intermaxillar',\n",
       " 'lepidodendroid',\n",
       " 'cloit',\n",
       " 'suprasoriferous',\n",
       " 'disagreeableness',\n",
       " 'hyperbola',\n",
       " 'aula',\n",
       " 'retell',\n",
       " 'signior',\n",
       " 'sympathicotripsy',\n",
       " 'xosa',\n",
       " 'cymograph',\n",
       " 'resurrective',\n",
       " 'basal',\n",
       " 'intermine',\n",
       " 'mulctatory',\n",
       " 'proteroglyph',\n",
       " 'inferent',\n",
       " 'hoosier',\n",
       " 'bodywork',\n",
       " 'aeoline',\n",
       " 'bonce',\n",
       " 'hemihydrosis',\n",
       " 'predestination',\n",
       " 'unamend',\n",
       " 'pagatpat',\n",
       " 'salivate',\n",
       " 'cylinder',\n",
       " 'controllableness',\n",
       " 'classy',\n",
       " 'skedge',\n",
       " 'vacuate',\n",
       " 'lymphangitic',\n",
       " 'semitist',\n",
       " 'untress',\n",
       " 'tentage',\n",
       " 'historiograph',\n",
       " 'scopoleine',\n",
       " 'chattanoogan',\n",
       " 'nosographer',\n",
       " 'overdeal',\n",
       " 'predicatively',\n",
       " 'cyatheaceae',\n",
       " 'platitudinarianism',\n",
       " 'silverside',\n",
       " 'subantique',\n",
       " 'waibling',\n",
       " 'climacteric',\n",
       " 'loimography',\n",
       " 'coxcombhood',\n",
       " 'exudation',\n",
       " 'russify',\n",
       " 'sacrospinal',\n",
       " 'counterapproach',\n",
       " 'reseat',\n",
       " 'teamman',\n",
       " 'expromissor',\n",
       " 'stercorist',\n",
       " 'unisonous',\n",
       " 'motto',\n",
       " 'louisiana',\n",
       " 'overhasten',\n",
       " 'snickeringly',\n",
       " 'straint',\n",
       " 'bottlemaker',\n",
       " 'backvelder',\n",
       " 'gneissic',\n",
       " 'ukiyoye',\n",
       " 'malbehavior',\n",
       " 'desecrate',\n",
       " 'isocrymal',\n",
       " 'epulary',\n",
       " 'nonvisional',\n",
       " 'salpingemphraxis',\n",
       " 'myopachynsis',\n",
       " 'chamberwoman',\n",
       " 'overbridge',\n",
       " 'uncheerable',\n",
       " 'clavicornes',\n",
       " 'deification',\n",
       " 'airmonger',\n",
       " 'fangot',\n",
       " 'barlow',\n",
       " 'sufferable',\n",
       " 'arx',\n",
       " 'assuredly',\n",
       " 'exotropia',\n",
       " 'phonographically',\n",
       " 'kilometrical',\n",
       " 'scuse',\n",
       " 'laciness',\n",
       " 'ophrys',\n",
       " 'solenacean',\n",
       " 'betterment',\n",
       " 'smeth',\n",
       " 'snowblink',\n",
       " 'anaberoga',\n",
       " 'sonorous',\n",
       " 'tressilation',\n",
       " 'tentaculifera',\n",
       " 'fluxionist',\n",
       " 'revacate',\n",
       " 'uncontemptuous',\n",
       " 'lamellibranchiate',\n",
       " 'tenter',\n",
       " 'discontentive',\n",
       " 'ulua',\n",
       " 'freeman',\n",
       " 'dannebrog',\n",
       " 'eddo',\n",
       " 'wardage',\n",
       " 'percher',\n",
       " 'splotchily',\n",
       " 'spanpiece',\n",
       " 'coffin',\n",
       " 'pregnant',\n",
       " 'chauvinistically',\n",
       " 'nasiobregmatic',\n",
       " 'anecdota',\n",
       " 'biplane',\n",
       " 'impaler',\n",
       " 'decalcify',\n",
       " 'auriculidae',\n",
       " 'nonintrusion',\n",
       " 'smallclothes',\n",
       " 'forested',\n",
       " 'anacardic',\n",
       " 'amphiprotic',\n",
       " 'dichloride',\n",
       " 'hypoglossal',\n",
       " 'mahmal',\n",
       " 'ophthalmomyotomy',\n",
       " 'innocuous',\n",
       " 'wriest',\n",
       " 'jugglery',\n",
       " 'scaturient',\n",
       " 'fluviomarine',\n",
       " 'noncompeting',\n",
       " 'impersuasibility',\n",
       " 'pantisocratic',\n",
       " 'terribly',\n",
       " 'haughtly',\n",
       " 'unpargeted',\n",
       " 'shaggedness',\n",
       " 'fusibly',\n",
       " 'autoimmunization',\n",
       " 'salmonet',\n",
       " 'bremia',\n",
       " 'unpureness',\n",
       " 'mulloid',\n",
       " 'toothachy',\n",
       " 'allotropic',\n",
       " 'mobilianer',\n",
       " 'hispanidad',\n",
       " 'unstainableness',\n",
       " 'reverseless',\n",
       " 'pedestrial',\n",
       " 'precipitinogenic',\n",
       " 'shogunate',\n",
       " 'mastologist',\n",
       " 'octodactyl',\n",
       " 'averral',\n",
       " 'disapproval',\n",
       " 'monotelephone',\n",
       " 'sensitizer',\n",
       " 'stonefish',\n",
       " 'seamanite',\n",
       " 'nonagesimal',\n",
       " 'volumometer',\n",
       " 'breezy',\n",
       " 'soar',\n",
       " 'omphalorrhexis',\n",
       " 'scombriformes',\n",
       " 'perioecic',\n",
       " 'shagbag',\n",
       " 'rusky',\n",
       " 'autoportraiture',\n",
       " 'preadmit',\n",
       " 'unduncelike',\n",
       " 'petrescent',\n",
       " 'pinchpenny',\n",
       " 'sheriffhood',\n",
       " 'proanthropos',\n",
       " 'adjudicative',\n",
       " 'bandhook',\n",
       " 'presentability',\n",
       " 'moslemah',\n",
       " 'catlike',\n",
       " 'sanguinification',\n",
       " 'benasty',\n",
       " 'dismality',\n",
       " 'antirattler',\n",
       " 'mucosity',\n",
       " 'previsit',\n",
       " 'squamiform',\n",
       " 'subumbellate',\n",
       " 'flittermouse',\n",
       " 'ouster',\n",
       " 'unstethoscoped',\n",
       " 'bemoaner',\n",
       " 'tartarin',\n",
       " 'impressionableness',\n",
       " 'cursorary',\n",
       " 'ophelimity',\n",
       " 'unvaulted',\n",
       " 'reaccustom',\n",
       " 'prosodian',\n",
       " 'phytotomist',\n",
       " 'coronach',\n",
       " 'ultrabrilliant',\n",
       " 'uncledom',\n",
       " 'tremulousness',\n",
       " 'unmodernized',\n",
       " 'electret',\n",
       " 'dazement',\n",
       " 'esiphonal',\n",
       " 'shepherdish',\n",
       " 'flavanthrone',\n",
       " 'phonotypy',\n",
       " 'pruriently',\n",
       " 'pirate',\n",
       " 'gratiolin',\n",
       " 'merited',\n",
       " 'cigala',\n",
       " 'phylactolema',\n",
       " 'chromatoptometry',\n",
       " 'unstep',\n",
       " 'spoffy',\n",
       " 'xanthogen',\n",
       " 'iconography',\n",
       " 'gunther',\n",
       " 'retrograde',\n",
       " 'syphilize',\n",
       " 'unsoused',\n",
       " 'cushite',\n",
       " 'weitspekan',\n",
       " 'celiopyosis',\n",
       " 'monochlorbenzene',\n",
       " 'showboater',\n",
       " 'carshop',\n",
       " 'sophistical',\n",
       " 'graywacke',\n",
       " 'subcommit',\n",
       " 'tombac',\n",
       " 'unpretendingly',\n",
       " 'rhodorhiza',\n",
       " 'coffret',\n",
       " 'underer',\n",
       " 'undissuadably',\n",
       " 'aclastic',\n",
       " 'zero',\n",
       " 'finetop',\n",
       " 'brisure',\n",
       " 'hebraize',\n",
       " 'reintroduction',\n",
       " 'unopportune',\n",
       " 'retrieveless',\n",
       " 'pluvial',\n",
       " 'sketiotai',\n",
       " 'laudist',\n",
       " 'multiphase',\n",
       " 'basifacial',\n",
       " 'hypo',\n",
       " 'pennatula',\n",
       " 'rayed',\n",
       " 'krems',\n",
       " 'becrinolined',\n",
       " 'wallwork',\n",
       " 'enneapetalous',\n",
       " 'auscultascope',\n",
       " 'injudiciousness',\n",
       " 'fruitfully',\n",
       " 'vulnerableness',\n",
       " 'outrede',\n",
       " 'chapanec',\n",
       " 'phanerite',\n",
       " 'woning',\n",
       " 'fluocerine',\n",
       " 'salviniales',\n",
       " 'unample',\n",
       " 'lepidopterology',\n",
       " 'hospitably',\n",
       " 'venerative',\n",
       " 'ferrite',\n",
       " 'overtrue',\n",
       " 'nutritious',\n",
       " 'wassie',\n",
       " 'indisciplined',\n",
       " 'backhandedly',\n",
       " 'nonarithmetical',\n",
       " 'dantean',\n",
       " 'teasler',\n",
       " 'helenus',\n",
       " 'balalaika',\n",
       " 'acatastasia',\n",
       " 'nonintoxicating',\n",
       " 'keraunography',\n",
       " 'anadem',\n",
       " 'soldanelle',\n",
       " 'fairway',\n",
       " 'tubbable',\n",
       " 'reinjure',\n",
       " 'frame',\n",
       " 'linley',\n",
       " 'donatiaceae',\n",
       " 'unconfess',\n",
       " 'palinal',\n",
       " 'phaenogenesis',\n",
       " 'leecher',\n",
       " 'allothimorphic',\n",
       " 'onflow',\n",
       " 'driftman',\n",
       " 'lipocere',\n",
       " 'theorist',\n",
       " 'uncreate',\n",
       " 'pyophagia',\n",
       " 'tightness',\n",
       " 'truantlike',\n",
       " 'fumaroidal',\n",
       " 'longs',\n",
       " 'sequence',\n",
       " 'mutuatitious',\n",
       " 'scriggler',\n",
       " 'pamphysicism',\n",
       " 'repleader',\n",
       " 'ampulliform',\n",
       " 'tumefaction',\n",
       " 'psychobiology',\n",
       " 'bispore',\n",
       " 'coldish',\n",
       " 'repitch',\n",
       " 'unnoticeably',\n",
       " 'unpenurious',\n",
       " 'wring',\n",
       " 'darsonvalism',\n",
       " 'diurna',\n",
       " 'sophisticism',\n",
       " 'irreprovable',\n",
       " 'sagittarius',\n",
       " 'tenderize',\n",
       " 'recolonization',\n",
       " 'unbright',\n",
       " 'urethroscope',\n",
       " 'confriar',\n",
       " 'incross',\n",
       " 'linguistic',\n",
       " 'progne',\n",
       " 'unharmonious',\n",
       " 'tubework',\n",
       " 'dismissive',\n",
       " 'reweave',\n",
       " 'unravel',\n",
       " 'suclat',\n",
       " 'epiglottidean',\n",
       " 'nonremunerative',\n",
       " 'godless',\n",
       " 'stultiloquently',\n",
       " 'reregulation',\n",
       " 'dragonnade',\n",
       " 'splenectama',\n",
       " 'penciller',\n",
       " 'microbiologically',\n",
       " 'coenesthesis',\n",
       " 'truistical',\n",
       " 'misguider',\n",
       " 'misreflect',\n",
       " 'aristotype',\n",
       " 'overtwist',\n",
       " 'ophiuchid',\n",
       " 'pocketed',\n",
       " 'didache',\n",
       " 'azonaphthalene',\n",
       " 'hydromedusan',\n",
       " 'pharmacite',\n",
       " 'titulus',\n",
       " 'combat',\n",
       " 'slungbody',\n",
       " 'spinifex',\n",
       " 'overattentively',\n",
       " 'hyperope',\n",
       " 'semipyramidical',\n",
       " 'garnice',\n",
       " 'contestant',\n",
       " 'dermatoplasty',\n",
       " 'infusoriform',\n",
       " 'malleolus',\n",
       " 'unpostponed',\n",
       " 'pacifical',\n",
       " 'unistylist',\n",
       " 'inexpressibility',\n",
       " 'gastrostomus',\n",
       " 'determinate',\n",
       " 'middle',\n",
       " 'ursine',\n",
       " 'oldenburg',\n",
       " 'rose',\n",
       " 'posthypophyseal',\n",
       " 'thorntail',\n",
       " 'discrown',\n",
       " 'nightchurr',\n",
       " 'criminologic',\n",
       " 'leptostraca',\n",
       " 'glassie',\n",
       " 'sudsy',\n",
       " 'dimyaria',\n",
       " 'cuarteron',\n",
       " 'mussulmanic',\n",
       " 'dart',\n",
       " 'nestler',\n",
       " 'cowrie',\n",
       " 'rosinwood',\n",
       " 'exhibitor',\n",
       " 'cabirean',\n",
       " 'lateroposterior',\n",
       " 'puncticular',\n",
       " 'previolation',\n",
       " 'unwarnished',\n",
       " 'gillaroo',\n",
       " 'rotaliiform',\n",
       " 'endobronchitis',\n",
       " 'snailish',\n",
       " 'allelotropic',\n",
       " 'invalid',\n",
       " 'thaumaturgic',\n",
       " 'protoceratops',\n",
       " 'unlashed',\n",
       " 'scopiformly',\n",
       " 'mispage',\n",
       " 'billfish',\n",
       " 'haslet',\n",
       " 'veneriform',\n",
       " 'freycinetia',\n",
       " 'fionnuala',\n",
       " 'rimu',\n",
       " 'elope',\n",
       " 'semisovereignty',\n",
       " 'fairyologist',\n",
       " 'pulvinate',\n",
       " 'terek',\n",
       " 'zoll',\n",
       " 'inoffensiveness',\n",
       " 'sisyrinchium',\n",
       " 'atmolyzer',\n",
       " 'nonconcur',\n",
       " 'preshape',\n",
       " 'comradely',\n",
       " 'polymerization',\n",
       " 'rigbane',\n",
       " 'minded',\n",
       " 'porule',\n",
       " 'gaumish',\n",
       " 'hydroxylic',\n",
       " 'pythonic',\n",
       " 'unclassifiableness',\n",
       " 'pleonast',\n",
       " 'sternage',\n",
       " 'contraparallelogram',\n",
       " 'aide',\n",
       " 'diota',\n",
       " 'narrawood',\n",
       " 'bequeathal',\n",
       " 'ingaevones',\n",
       " 'osmidrosis',\n",
       " 'vesiculitis',\n",
       " 'nondropsical',\n",
       " 'ampullaria',\n",
       " 'unsociality',\n",
       " 'overburdensome',\n",
       " 'progressiveness',\n",
       " 'causingness',\n",
       " 'anthropogeographer',\n",
       " 'reaccomplishment',\n",
       " 'sedjadeh',\n",
       " 'unvamped',\n",
       " 'remollient',\n",
       " 'admirator',\n",
       " 'penalize',\n",
       " 'underboated',\n",
       " 'brunelliaceae',\n",
       " 'rudolph',\n",
       " 'songland',\n",
       " 'sparely',\n",
       " 'albumenizer',\n",
       " 'purpurine',\n",
       " 'whipman',\n",
       " 'radiosurgical',\n",
       " 'terfez',\n",
       " 'gul',\n",
       " 'town',\n",
       " 'associatively',\n",
       " 'fibrillate',\n",
       " 'reptility',\n",
       " 'nigel',\n",
       " 'carper',\n",
       " 'gardenmaking',\n",
       " 'worshipless',\n",
       " 'supercivilization',\n",
       " 'cammock',\n",
       " 'canions',\n",
       " 'vadium',\n",
       " 'lagenaria',\n",
       " 'octodactylous',\n",
       " 'dissatisfiedness',\n",
       " 'lavatory',\n",
       " 'penmanship',\n",
       " 'gaussian',\n",
       " 'bibliotaphic',\n",
       " 'athermous',\n",
       " 'larviform',\n",
       " 'perivascular',\n",
       " 'smokelessness',\n",
       " 'unsneering',\n",
       " 'spatangus',\n",
       " 'misprize',\n",
       " 'blubberingly',\n",
       " 'unwrung',\n",
       " 'gyrovagi',\n",
       " 'graphomotor',\n",
       " 'degenerate',\n",
       " 'gyn',\n",
       " 'porcate',\n",
       " 'waterquake',\n",
       " 'bacchanalism',\n",
       " 'mycology',\n",
       " 'escobadura',\n",
       " 'centaur',\n",
       " 'novilunar',\n",
       " 'luna',\n",
       " 'dentile',\n",
       " 'supralateral',\n",
       " 'argentino',\n",
       " 'dacryocystosyringotomy',\n",
       " 'misocapnist',\n",
       " 'bismerpund',\n",
       " 'eburnification',\n",
       " 'nonmunicipal',\n",
       " 'renderer',\n",
       " 'subocular',\n",
       " 'turbaned',\n",
       " 'basialveolar',\n",
       " 'freyalite',\n",
       " 'impecuniously',\n",
       " 'paracorolla',\n",
       " 'crebricostate',\n",
       " 'filoselle',\n",
       " 'horntip',\n",
       " 'rollmop',\n",
       " 'coequality',\n",
       " 'rechoose',\n",
       " 'seaman',\n",
       " 'wastefulness',\n",
       " 'nonrevolutionary',\n",
       " 'lemurid',\n",
       " 'recadency',\n",
       " 'sapientially',\n",
       " 'uncombatable',\n",
       " 'cherubin',\n",
       " 'unpromiscuous',\n",
       " 'undrenched',\n",
       " 'multifurcate',\n",
       " 'reinstallation',\n",
       " 'alkene',\n",
       " 'overbowl',\n",
       " 'nonprocurement',\n",
       " 'structurally',\n",
       " 'latticing',\n",
       " 'mathetic',\n",
       " 'paidology',\n",
       " 'vagarist',\n",
       " 'swingle',\n",
       " 'postscarlatinal',\n",
       " 'amentiform',\n",
       " 'egotistic',\n",
       " 'cerebrally',\n",
       " 'pronegroism',\n",
       " 'presee',\n",
       " 'vindicator',\n",
       " 'trichloroacetic',\n",
       " 'violist',\n",
       " 'lanose',\n",
       " 'sabbatically',\n",
       " 'succeedingly',\n",
       " 'trinomiality',\n",
       " 'marriageproof',\n",
       " 'hogwash',\n",
       " 'pelagianism',\n",
       " 'dandify',\n",
       " 'nonclassification',\n",
       " 'sternohyoidean',\n",
       " 'tralaticiary',\n",
       " 'runelike',\n",
       " 'corrodier',\n",
       " 'seignorage',\n",
       " 'resurrection',\n",
       " 'alphyl',\n",
       " 'empiricism',\n",
       " 'fise',\n",
       " 'lycanthropia',\n",
       " 'moneyed',\n",
       " 'howso',\n",
       " 'saurischian',\n",
       " 'midtap',\n",
       " 'sozzle',\n",
       " 'was',\n",
       " 'admonitory',\n",
       " 'camagon',\n",
       " 'lithy',\n",
       " 'infirmness',\n",
       " 'ultramelancholy',\n",
       " 'misform',\n",
       " 'peritonsillar',\n",
       " 'wailaki',\n",
       " 'thermoanesthesia',\n",
       " 'beeswax',\n",
       " 'spherograph',\n",
       " 'outkill',\n",
       " 'pinckneya',\n",
       " 'inertia',\n",
       " 'awin',\n",
       " 'shag',\n",
       " 'geobiologic',\n",
       " 'amapondo',\n",
       " 'wahabitism',\n",
       " 'grog',\n",
       " 'semiclimbing',\n",
       " 'weighership',\n",
       " 'extracosmical',\n",
       " 'coistrel',\n",
       " 'masculinization',\n",
       " 'sphaeriaceae',\n",
       " 'argusfish',\n",
       " 'equilibration',\n",
       " 'hyperbrutal',\n",
       " 'thermocautery',\n",
       " 'ultramicroscope',\n",
       " 'hurricano',\n",
       " 'sisymbrium',\n",
       " 'telegrammic',\n",
       " 'wahabit',\n",
       " 'antimeric',\n",
       " 'anteal',\n",
       " 'quinine',\n",
       " 'unthoughtfully',\n",
       " 'alternacy',\n",
       " 'daunch',\n",
       " 'khazarian',\n",
       " 'sawmaker',\n",
       " 'roustabout',\n",
       " 'squattingly',\n",
       " 'pretendedly',\n",
       " 'clinopodium',\n",
       " 'superperson',\n",
       " 'enchase',\n",
       " 'polyemia',\n",
       " 'capitonidae',\n",
       " 'peziza',\n",
       " 'overtrustful',\n",
       " 'predestinator',\n",
       " 'courant',\n",
       " 'cumber',\n",
       " 'babbie',\n",
       " 'impacability',\n",
       " 'karyorrhexis',\n",
       " 'mesotroch',\n",
       " 'oxytylotate',\n",
       " 'crotaphytus',\n",
       " 'misapprehensive',\n",
       " 'sammier',\n",
       " 'baroi',\n",
       " 'bactriticone',\n",
       " 'stremmatograph',\n",
       " 'unhandicapped',\n",
       " 'clayen',\n",
       " 'subcaption',\n",
       " 'dysuric',\n",
       " 'uricaemic',\n",
       " 'beehouse',\n",
       " 'matchable',\n",
       " 'dedoggerelize',\n",
       " 'marconi',\n",
       " 'infrigidate',\n",
       " 'waveproof',\n",
       " 'overcivility',\n",
       " 'implicatively',\n",
       " 'unhonied',\n",
       " ...}"
      ]
     },
     "execution_count": 158,
     "metadata": {},
     "output_type": "execute_result"
    }
   ],
   "source": [
    "words"
   ]
  },
  {
   "cell_type": "code",
   "execution_count": null,
   "metadata": {},
   "outputs": [],
   "source": []
  }
 ],
 "metadata": {
  "kernelspec": {
   "display_name": "Python 3",
   "language": "python",
   "name": "python3"
  },
  "language_info": {
   "codemirror_mode": {
    "name": "ipython",
    "version": 3
   },
   "file_extension": ".py",
   "mimetype": "text/x-python",
   "name": "python",
   "nbconvert_exporter": "python",
   "pygments_lexer": "ipython3",
   "version": "3.7.4"
  }
 },
 "nbformat": 4,
 "nbformat_minor": 2
}
